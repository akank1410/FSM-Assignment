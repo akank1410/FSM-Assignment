{
  "nbformat": 4,
  "nbformat_minor": 0,
  "metadata": {
    "colab": {
      "name": "KNN modelipynb",
      "provenance": [],
      "collapsed_sections": []
    },
    "kernelspec": {
      "name": "python3",
      "display_name": "Python 3"
    },
    "language_info": {
      "name": "python"
    }
  },
  "cells": [
    {
      "cell_type": "code",
      "execution_count": 4,
      "metadata": {
        "colab": {
          "resources": {
            "http://localhost:8080/nbextensions/google.colab/files.js": {
              "data": "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",
              "ok": true,
              "headers": [
                [
                  "content-type",
                  "application/javascript"
                ]
              ],
              "status": 200,
              "status_text": ""
            }
          },
          "base_uri": "https://localhost:8080/",
          "height": 213
        },
        "id": "G-aPPwXRRAFO",
        "outputId": "086af1c2-608b-4afe-c727-7b19b45e8144"
      },
      "outputs": [
        {
          "output_type": "stream",
          "name": "stdout",
          "text": [
            "Mounted at /content/gdrive\n"
          ]
        },
        {
          "output_type": "display_data",
          "data": {
            "text/plain": [
              "<IPython.core.display.HTML object>"
            ],
            "text/html": [
              "\n",
              "     <input type=\"file\" id=\"files-e591b6ba-c330-4dd8-8b7a-020e5b8af1b8\" name=\"files[]\" multiple disabled\n",
              "        style=\"border:none\" />\n",
              "     <output id=\"result-e591b6ba-c330-4dd8-8b7a-020e5b8af1b8\">\n",
              "      Upload widget is only available when the cell has been executed in the\n",
              "      current browser session. Please rerun this cell to enable.\n",
              "      </output>\n",
              "      <script src=\"/nbextensions/google.colab/files.js\"></script> "
            ]
          },
          "metadata": {}
        },
        {
          "output_type": "stream",
          "name": "stdout",
          "text": [
            "Saving titanic.zip to titanic (1).zip\n",
            "Archive:  titanic.zip\n",
            "replace gender_submission.csv? [y]es, [n]o, [A]ll, [N]one, [r]ename: y\n",
            "  inflating: gender_submission.csv   \n",
            "replace test.csv? [y]es, [n]o, [A]ll, [N]one, [r]ename: y\n",
            "  inflating: test.csv                \n",
            "replace train.csv? [y]es, [n]o, [A]ll, [N]one, [r]ename: y\n",
            "  inflating: train.csv               \n"
          ]
        }
      ],
      "source": [
        "import os\n",
        "os.getcwd()\n",
        "\n",
        "#permission to access drive of linked account\n",
        "from google.colab import drive\n",
        "drive.mount('/content/gdrive', force_remount=True)\n",
        "\n",
        "#uploading the dataset zip file to google colab drive\n",
        "from google.colab import files\n",
        "files.upload()\n",
        "\n",
        "!unzip titanic.zip"
      ]
    },
    {
      "cell_type": "code",
      "source": [
        "import pandas as pd\n",
        "import numpy as np \n",
        "import matplotlib.pyplot as plt\n",
        "import seaborn as sns"
      ],
      "metadata": {
        "id": "IolXviYLRexn"
      },
      "execution_count": 5,
      "outputs": []
    },
    {
      "cell_type": "markdown",
      "source": [
        "k-nearset algorithm is broken into 3 steps\n",
        "\n",
        "1. Calculate Euclidean Distance\n",
        "2. Get Nearest Neighbors\n",
        "3. Make Predictions"
      ],
      "metadata": {
        "id": "stVE3RZ7RY57"
      }
    },
    {
      "cell_type": "code",
      "source": [
        "train = pd.read_csv('train.csv')\n",
        "test = pd.read_csv('test.csv')"
      ],
      "metadata": {
        "id": "RXIcKn6TRUvb"
      },
      "execution_count": 24,
      "outputs": []
    },
    {
      "cell_type": "markdown",
      "source": [
        "PassengerId = 1-891 : Train(891), 892 - 1309 : test (418 rows)\n"
      ],
      "metadata": {
        "id": "NjiuaW8ooN08"
      }
    },
    {
      "cell_type": "code",
      "source": [
        "y_train = train['Survived'] # target\n",
        "train.drop(['Survived'], axis=1, inplace=True)\n",
        "train = pd.concat([train,test])\n",
        "train.index = list(range(0,train.shape[0]))"
      ],
      "metadata": {
        "id": "K4CBE-p9oEm0"
      },
      "execution_count": 25,
      "outputs": []
    },
    {
      "cell_type": "code",
      "source": [
        "train"
      ],
      "metadata": {
        "colab": {
          "base_uri": "https://localhost:8080/",
          "height": 424
        },
        "id": "NZSVSHh95FFr",
        "outputId": "583eadb4-e3ee-4146-f2ff-14f997d9f378"
      },
      "execution_count": 26,
      "outputs": [
        {
          "output_type": "execute_result",
          "data": {
            "text/plain": [
              "      PassengerId  Pclass                                               Name  \\\n",
              "0               1       3                            Braund, Mr. Owen Harris   \n",
              "1               2       1  Cumings, Mrs. John Bradley (Florence Briggs Th...   \n",
              "2               3       3                             Heikkinen, Miss. Laina   \n",
              "3               4       1       Futrelle, Mrs. Jacques Heath (Lily May Peel)   \n",
              "4               5       3                           Allen, Mr. William Henry   \n",
              "...           ...     ...                                                ...   \n",
              "1304         1305       3                                 Spector, Mr. Woolf   \n",
              "1305         1306       1                       Oliva y Ocana, Dona. Fermina   \n",
              "1306         1307       3                       Saether, Mr. Simon Sivertsen   \n",
              "1307         1308       3                                Ware, Mr. Frederick   \n",
              "1308         1309       3                           Peter, Master. Michael J   \n",
              "\n",
              "         Sex   Age  SibSp  Parch              Ticket      Fare Cabin Embarked  \n",
              "0       male  22.0      1      0           A/5 21171    7.2500   NaN        S  \n",
              "1     female  38.0      1      0            PC 17599   71.2833   C85        C  \n",
              "2     female  26.0      0      0    STON/O2. 3101282    7.9250   NaN        S  \n",
              "3     female  35.0      1      0              113803   53.1000  C123        S  \n",
              "4       male  35.0      0      0              373450    8.0500   NaN        S  \n",
              "...      ...   ...    ...    ...                 ...       ...   ...      ...  \n",
              "1304    male   NaN      0      0           A.5. 3236    8.0500   NaN        S  \n",
              "1305  female  39.0      0      0            PC 17758  108.9000  C105        C  \n",
              "1306    male  38.5      0      0  SOTON/O.Q. 3101262    7.2500   NaN        S  \n",
              "1307    male   NaN      0      0              359309    8.0500   NaN        S  \n",
              "1308    male   NaN      1      1                2668   22.3583   NaN        C  \n",
              "\n",
              "[1309 rows x 11 columns]"
            ],
            "text/html": [
              "\n",
              "  <div id=\"df-54b20ff5-80b7-48bb-867d-c81835ca65ce\">\n",
              "    <div class=\"colab-df-container\">\n",
              "      <div>\n",
              "<style scoped>\n",
              "    .dataframe tbody tr th:only-of-type {\n",
              "        vertical-align: middle;\n",
              "    }\n",
              "\n",
              "    .dataframe tbody tr th {\n",
              "        vertical-align: top;\n",
              "    }\n",
              "\n",
              "    .dataframe thead th {\n",
              "        text-align: right;\n",
              "    }\n",
              "</style>\n",
              "<table border=\"1\" class=\"dataframe\">\n",
              "  <thead>\n",
              "    <tr style=\"text-align: right;\">\n",
              "      <th></th>\n",
              "      <th>PassengerId</th>\n",
              "      <th>Pclass</th>\n",
              "      <th>Name</th>\n",
              "      <th>Sex</th>\n",
              "      <th>Age</th>\n",
              "      <th>SibSp</th>\n",
              "      <th>Parch</th>\n",
              "      <th>Ticket</th>\n",
              "      <th>Fare</th>\n",
              "      <th>Cabin</th>\n",
              "      <th>Embarked</th>\n",
              "    </tr>\n",
              "  </thead>\n",
              "  <tbody>\n",
              "    <tr>\n",
              "      <th>0</th>\n",
              "      <td>1</td>\n",
              "      <td>3</td>\n",
              "      <td>Braund, Mr. Owen Harris</td>\n",
              "      <td>male</td>\n",
              "      <td>22.0</td>\n",
              "      <td>1</td>\n",
              "      <td>0</td>\n",
              "      <td>A/5 21171</td>\n",
              "      <td>7.2500</td>\n",
              "      <td>NaN</td>\n",
              "      <td>S</td>\n",
              "    </tr>\n",
              "    <tr>\n",
              "      <th>1</th>\n",
              "      <td>2</td>\n",
              "      <td>1</td>\n",
              "      <td>Cumings, Mrs. John Bradley (Florence Briggs Th...</td>\n",
              "      <td>female</td>\n",
              "      <td>38.0</td>\n",
              "      <td>1</td>\n",
              "      <td>0</td>\n",
              "      <td>PC 17599</td>\n",
              "      <td>71.2833</td>\n",
              "      <td>C85</td>\n",
              "      <td>C</td>\n",
              "    </tr>\n",
              "    <tr>\n",
              "      <th>2</th>\n",
              "      <td>3</td>\n",
              "      <td>3</td>\n",
              "      <td>Heikkinen, Miss. Laina</td>\n",
              "      <td>female</td>\n",
              "      <td>26.0</td>\n",
              "      <td>0</td>\n",
              "      <td>0</td>\n",
              "      <td>STON/O2. 3101282</td>\n",
              "      <td>7.9250</td>\n",
              "      <td>NaN</td>\n",
              "      <td>S</td>\n",
              "    </tr>\n",
              "    <tr>\n",
              "      <th>3</th>\n",
              "      <td>4</td>\n",
              "      <td>1</td>\n",
              "      <td>Futrelle, Mrs. Jacques Heath (Lily May Peel)</td>\n",
              "      <td>female</td>\n",
              "      <td>35.0</td>\n",
              "      <td>1</td>\n",
              "      <td>0</td>\n",
              "      <td>113803</td>\n",
              "      <td>53.1000</td>\n",
              "      <td>C123</td>\n",
              "      <td>S</td>\n",
              "    </tr>\n",
              "    <tr>\n",
              "      <th>4</th>\n",
              "      <td>5</td>\n",
              "      <td>3</td>\n",
              "      <td>Allen, Mr. William Henry</td>\n",
              "      <td>male</td>\n",
              "      <td>35.0</td>\n",
              "      <td>0</td>\n",
              "      <td>0</td>\n",
              "      <td>373450</td>\n",
              "      <td>8.0500</td>\n",
              "      <td>NaN</td>\n",
              "      <td>S</td>\n",
              "    </tr>\n",
              "    <tr>\n",
              "      <th>...</th>\n",
              "      <td>...</td>\n",
              "      <td>...</td>\n",
              "      <td>...</td>\n",
              "      <td>...</td>\n",
              "      <td>...</td>\n",
              "      <td>...</td>\n",
              "      <td>...</td>\n",
              "      <td>...</td>\n",
              "      <td>...</td>\n",
              "      <td>...</td>\n",
              "      <td>...</td>\n",
              "    </tr>\n",
              "    <tr>\n",
              "      <th>1304</th>\n",
              "      <td>1305</td>\n",
              "      <td>3</td>\n",
              "      <td>Spector, Mr. Woolf</td>\n",
              "      <td>male</td>\n",
              "      <td>NaN</td>\n",
              "      <td>0</td>\n",
              "      <td>0</td>\n",
              "      <td>A.5. 3236</td>\n",
              "      <td>8.0500</td>\n",
              "      <td>NaN</td>\n",
              "      <td>S</td>\n",
              "    </tr>\n",
              "    <tr>\n",
              "      <th>1305</th>\n",
              "      <td>1306</td>\n",
              "      <td>1</td>\n",
              "      <td>Oliva y Ocana, Dona. Fermina</td>\n",
              "      <td>female</td>\n",
              "      <td>39.0</td>\n",
              "      <td>0</td>\n",
              "      <td>0</td>\n",
              "      <td>PC 17758</td>\n",
              "      <td>108.9000</td>\n",
              "      <td>C105</td>\n",
              "      <td>C</td>\n",
              "    </tr>\n",
              "    <tr>\n",
              "      <th>1306</th>\n",
              "      <td>1307</td>\n",
              "      <td>3</td>\n",
              "      <td>Saether, Mr. Simon Sivertsen</td>\n",
              "      <td>male</td>\n",
              "      <td>38.5</td>\n",
              "      <td>0</td>\n",
              "      <td>0</td>\n",
              "      <td>SOTON/O.Q. 3101262</td>\n",
              "      <td>7.2500</td>\n",
              "      <td>NaN</td>\n",
              "      <td>S</td>\n",
              "    </tr>\n",
              "    <tr>\n",
              "      <th>1307</th>\n",
              "      <td>1308</td>\n",
              "      <td>3</td>\n",
              "      <td>Ware, Mr. Frederick</td>\n",
              "      <td>male</td>\n",
              "      <td>NaN</td>\n",
              "      <td>0</td>\n",
              "      <td>0</td>\n",
              "      <td>359309</td>\n",
              "      <td>8.0500</td>\n",
              "      <td>NaN</td>\n",
              "      <td>S</td>\n",
              "    </tr>\n",
              "    <tr>\n",
              "      <th>1308</th>\n",
              "      <td>1309</td>\n",
              "      <td>3</td>\n",
              "      <td>Peter, Master. Michael J</td>\n",
              "      <td>male</td>\n",
              "      <td>NaN</td>\n",
              "      <td>1</td>\n",
              "      <td>1</td>\n",
              "      <td>2668</td>\n",
              "      <td>22.3583</td>\n",
              "      <td>NaN</td>\n",
              "      <td>C</td>\n",
              "    </tr>\n",
              "  </tbody>\n",
              "</table>\n",
              "<p>1309 rows × 11 columns</p>\n",
              "</div>\n",
              "      <button class=\"colab-df-convert\" onclick=\"convertToInteractive('df-54b20ff5-80b7-48bb-867d-c81835ca65ce')\"\n",
              "              title=\"Convert this dataframe to an interactive table.\"\n",
              "              style=\"display:none;\">\n",
              "        \n",
              "  <svg xmlns=\"http://www.w3.org/2000/svg\" height=\"24px\"viewBox=\"0 0 24 24\"\n",
              "       width=\"24px\">\n",
              "    <path d=\"M0 0h24v24H0V0z\" fill=\"none\"/>\n",
              "    <path d=\"M18.56 5.44l.94 2.06.94-2.06 2.06-.94-2.06-.94-.94-2.06-.94 2.06-2.06.94zm-11 1L8.5 8.5l.94-2.06 2.06-.94-2.06-.94L8.5 2.5l-.94 2.06-2.06.94zm10 10l.94 2.06.94-2.06 2.06-.94-2.06-.94-.94-2.06-.94 2.06-2.06.94z\"/><path d=\"M17.41 7.96l-1.37-1.37c-.4-.4-.92-.59-1.43-.59-.52 0-1.04.2-1.43.59L10.3 9.45l-7.72 7.72c-.78.78-.78 2.05 0 2.83L4 21.41c.39.39.9.59 1.41.59.51 0 1.02-.2 1.41-.59l7.78-7.78 2.81-2.81c.8-.78.8-2.07 0-2.86zM5.41 20L4 18.59l7.72-7.72 1.47 1.35L5.41 20z\"/>\n",
              "  </svg>\n",
              "      </button>\n",
              "      \n",
              "  <style>\n",
              "    .colab-df-container {\n",
              "      display:flex;\n",
              "      flex-wrap:wrap;\n",
              "      gap: 12px;\n",
              "    }\n",
              "\n",
              "    .colab-df-convert {\n",
              "      background-color: #E8F0FE;\n",
              "      border: none;\n",
              "      border-radius: 50%;\n",
              "      cursor: pointer;\n",
              "      display: none;\n",
              "      fill: #1967D2;\n",
              "      height: 32px;\n",
              "      padding: 0 0 0 0;\n",
              "      width: 32px;\n",
              "    }\n",
              "\n",
              "    .colab-df-convert:hover {\n",
              "      background-color: #E2EBFA;\n",
              "      box-shadow: 0px 1px 2px rgba(60, 64, 67, 0.3), 0px 1px 3px 1px rgba(60, 64, 67, 0.15);\n",
              "      fill: #174EA6;\n",
              "    }\n",
              "\n",
              "    [theme=dark] .colab-df-convert {\n",
              "      background-color: #3B4455;\n",
              "      fill: #D2E3FC;\n",
              "    }\n",
              "\n",
              "    [theme=dark] .colab-df-convert:hover {\n",
              "      background-color: #434B5C;\n",
              "      box-shadow: 0px 1px 3px 1px rgba(0, 0, 0, 0.15);\n",
              "      filter: drop-shadow(0px 1px 2px rgba(0, 0, 0, 0.3));\n",
              "      fill: #FFFFFF;\n",
              "    }\n",
              "  </style>\n",
              "\n",
              "      <script>\n",
              "        const buttonEl =\n",
              "          document.querySelector('#df-54b20ff5-80b7-48bb-867d-c81835ca65ce button.colab-df-convert');\n",
              "        buttonEl.style.display =\n",
              "          google.colab.kernel.accessAllowed ? 'block' : 'none';\n",
              "\n",
              "        async function convertToInteractive(key) {\n",
              "          const element = document.querySelector('#df-54b20ff5-80b7-48bb-867d-c81835ca65ce');\n",
              "          const dataTable =\n",
              "            await google.colab.kernel.invokeFunction('convertToInteractive',\n",
              "                                                     [key], {});\n",
              "          if (!dataTable) return;\n",
              "\n",
              "          const docLinkHtml = 'Like what you see? Visit the ' +\n",
              "            '<a target=\"_blank\" href=https://colab.research.google.com/notebooks/data_table.ipynb>data table notebook</a>'\n",
              "            + ' to learn more about interactive tables.';\n",
              "          element.innerHTML = '';\n",
              "          dataTable['output_type'] = 'display_data';\n",
              "          await google.colab.output.renderOutput(dataTable, element);\n",
              "          const docLink = document.createElement('div');\n",
              "          docLink.innerHTML = docLinkHtml;\n",
              "          element.appendChild(docLink);\n",
              "        }\n",
              "      </script>\n",
              "    </div>\n",
              "  </div>\n",
              "  "
            ]
          },
          "metadata": {},
          "execution_count": 26
        }
      ]
    },
    {
      "cell_type": "code",
      "source": [
        "train.info()"
      ],
      "metadata": {
        "colab": {
          "base_uri": "https://localhost:8080/"
        },
        "id": "_69N8sOCRncq",
        "outputId": "77394d3c-1284-4a5a-b305-e6bd4d9e7f8b"
      },
      "execution_count": 27,
      "outputs": [
        {
          "output_type": "stream",
          "name": "stdout",
          "text": [
            "<class 'pandas.core.frame.DataFrame'>\n",
            "Int64Index: 1309 entries, 0 to 1308\n",
            "Data columns (total 11 columns):\n",
            " #   Column       Non-Null Count  Dtype  \n",
            "---  ------       --------------  -----  \n",
            " 0   PassengerId  1309 non-null   int64  \n",
            " 1   Pclass       1309 non-null   int64  \n",
            " 2   Name         1309 non-null   object \n",
            " 3   Sex          1309 non-null   object \n",
            " 4   Age          1046 non-null   float64\n",
            " 5   SibSp        1309 non-null   int64  \n",
            " 6   Parch        1309 non-null   int64  \n",
            " 7   Ticket       1309 non-null   object \n",
            " 8   Fare         1308 non-null   float64\n",
            " 9   Cabin        295 non-null    object \n",
            " 10  Embarked     1307 non-null   object \n",
            "dtypes: float64(2), int64(4), object(5)\n",
            "memory usage: 122.7+ KB\n"
          ]
        }
      ]
    },
    {
      "cell_type": "code",
      "source": [
        "# Drop Cabin as it has large no. of values missing \n",
        "#Embarked as we will not be using it because if we convert those categores into numbers it would not make any sense.\n",
        "train.drop(['Cabin', 'Embarked'],axis=1, inplace=True)"
      ],
      "metadata": {
        "id": "4-fGn-BvhKuE"
      },
      "execution_count": 28,
      "outputs": []
    },
    {
      "cell_type": "code",
      "source": [
        "train.shape"
      ],
      "metadata": {
        "colab": {
          "base_uri": "https://localhost:8080/"
        },
        "id": "B46LUWSuvCZH",
        "outputId": "24fe8b27-cf4e-4f2f-ecc2-279a6f17914d"
      },
      "execution_count": 29,
      "outputs": [
        {
          "output_type": "execute_result",
          "data": {
            "text/plain": [
              "(1309, 9)"
            ]
          },
          "metadata": {},
          "execution_count": 29
        }
      ]
    },
    {
      "cell_type": "code",
      "source": [
        "# from boxplot below between age and Pclass attribute we can observe at for different Pclass age mean is differnt\n",
        "# hence we will replace the missing values in 'Age' with the mean of respective class\n",
        "plt.figure(figsize=(10,10))\n",
        "sns.boxplot(x='Pclass', y='Age', data=train, palette='winter')"
      ],
      "metadata": {
        "colab": {
          "base_uri": "https://localhost:8080/",
          "height": 623
        },
        "id": "rDvM2gTRj2p0",
        "outputId": "bc94a439-e246-4506-c3a5-0f8cffd87627"
      },
      "execution_count": 30,
      "outputs": [
        {
          "output_type": "execute_result",
          "data": {
            "text/plain": [
              "<matplotlib.axes._subplots.AxesSubplot at 0x7f544f5499d0>"
            ]
          },
          "metadata": {},
          "execution_count": 30
        },
        {
          "output_type": "display_data",
          "data": {
            "text/plain": [
              "<Figure size 720x720 with 1 Axes>"
            ],
            "image/png": "[encoded data removed]"
          },
          "metadata": {
            "needs_background": "light"
          }
        }
      ]
    },
    {
      "cell_type": "code",
      "source": [
        "#Finding the mean value of each class\n",
        "train.groupby('Pclass')['Age'].mean()"
      ],
      "metadata": {
        "colab": {
          "base_uri": "https://localhost:8080/"
        },
        "id": "fa17dtrJrm_j",
        "outputId": "3cf85629-0901-4cf1-ab90-a0239d985b2a"
      },
      "execution_count": 31,
      "outputs": [
        {
          "output_type": "execute_result",
          "data": {
            "text/plain": [
              "Pclass\n",
              "1    39.159930\n",
              "2    29.506705\n",
              "3    24.816367\n",
              "Name: Age, dtype: float64"
            ]
          },
          "metadata": {},
          "execution_count": 31
        }
      ]
    },
    {
      "cell_type": "code",
      "source": [
        "#Replacing the nan values in age column\n",
        "def replacena_age(columns):\n",
        "  Age = columns[0]\n",
        "  Pclass = columns[1]\n",
        "\n",
        "  if pd.isnull(Age):\n",
        "    if Pclass == 1:\n",
        "      return 39\n",
        "    elif Pclass == 2:\n",
        "      return 30\n",
        "    else:\n",
        "      return 25\n",
        "  else:\n",
        "    return Age"
      ],
      "metadata": {
        "id": "9-zHLfZRrd_b"
      },
      "execution_count": 32,
      "outputs": []
    },
    {
      "cell_type": "code",
      "source": [
        "train['Age'] = train[['Age','Pclass']].apply(replacena_age, axis=1)"
      ],
      "metadata": {
        "id": "oCJ1QjSfvgGb"
      },
      "execution_count": 33,
      "outputs": []
    },
    {
      "cell_type": "code",
      "source": [
        "train['Fare'].fillna(train['Fare'].mean(), inplace=True)"
      ],
      "metadata": {
        "id": "1YYqJtvZpvHU"
      },
      "execution_count": 34,
      "outputs": []
    },
    {
      "cell_type": "code",
      "source": [
        "train.isnull().sum()"
      ],
      "metadata": {
        "colab": {
          "base_uri": "https://localhost:8080/"
        },
        "id": "aN7WTnAeqOfN",
        "outputId": "1834d155-edb1-4cc6-dfa8-aa30f26046f0"
      },
      "execution_count": 35,
      "outputs": [
        {
          "output_type": "execute_result",
          "data": {
            "text/plain": [
              "PassengerId    0\n",
              "Pclass         0\n",
              "Name           0\n",
              "Sex            0\n",
              "Age            0\n",
              "SibSp          0\n",
              "Parch          0\n",
              "Ticket         0\n",
              "Fare           0\n",
              "dtype: int64"
            ]
          },
          "metadata": {},
          "execution_count": 35
        }
      ]
    },
    {
      "cell_type": "markdown",
      "source": [
        "Here,\n",
        "\n",
        "SibSp: Sibling Sprouse\n",
        "\n",
        "Parch : Parent child"
      ],
      "metadata": {
        "id": "dIBu2Ov7yZGf"
      }
    },
    {
      "cell_type": "code",
      "source": [
        "for ix, row in train.iterrows():\n",
        "  print(ix)\n",
        "  print(row)\n",
        "  print(\"-------------\")"
      ],
      "metadata": {
        "id": "pqJxHcxMt6hC"
      },
      "execution_count": null,
      "outputs": []
    },
    {
      "cell_type": "code",
      "source": [
        "for ix, row in train.iteritems():\n",
        "  print(ix)\n",
        "  print(row)\n",
        "  print(\"-------------\")"
      ],
      "metadata": {
        "id": "1Wh4ud-l8Sos"
      },
      "execution_count": null,
      "outputs": []
    },
    {
      "cell_type": "code",
      "source": [
        "# Getting family size from Prach and Sibsp\n",
        "\n",
        "train['family_size'] = train['Parch'] + train['SibSp']"
      ],
      "metadata": {
        "id": "ICOOYn7F9lpC"
      },
      "execution_count": 38,
      "outputs": []
    },
    {
      "cell_type": "markdown",
      "source": [
        "KNN needs numerical features therefore, we will convert them to numbers.\n",
        "\n",
        "In general sense, binary categorical data can work\n",
        "\n",
        "For larger categorical groups, it only makes sense when the numerical values itself haev meaning. \n",
        "\n",
        "For example, for class levels, the difference between first class and third class actually mean something.\n",
        "\n",
        "on the other hand, if we convert Embarked to a number, there is no meaning in the difference between embarked1 and embarked2"
      ],
      "metadata": {
        "id": "CJIFs-yg94G-"
      }
    },
    {
      "cell_type": "code",
      "source": [
        "#appling Label Encoding \n",
        "sex_dic = {'female':0, 'male':1}\n",
        "train['Sex'] = train['Sex'].map(sex_dic)"
      ],
      "metadata": {
        "id": "zBHzOwoT_O0R"
      },
      "execution_count": 39,
      "outputs": []
    },
    {
      "cell_type": "code",
      "source": [
        "#appling Label Encoding \n",
        "train.loc[:,'Age'] = pd.qcut(train['Age'], 4, labels=False)\n",
        "train.loc[:,'Fare'] = pd.qcut(train['Fare'], 5, labels=False)"
      ],
      "metadata": {
        "id": "gzGf-zMwDn2z"
      },
      "execution_count": 40,
      "outputs": []
    },
    {
      "cell_type": "code",
      "source": [
        "\n",
        "\n",
        "#dropping unrequired columns\n",
        "train.drop(['Name','SibSp','Parch', 'Ticket'], axis=1, inplace=True)"
      ],
      "metadata": {
        "id": "Fb6zpG6fkPzi"
      },
      "execution_count": 41,
      "outputs": []
    },
    {
      "cell_type": "code",
      "source": [
        "attributes = ['Pclass', 'Sex', 'Age', 'Fare', 'family_size']"
      ],
      "metadata": {
        "id": "vb51ZWZpEe-o"
      },
      "execution_count": 42,
      "outputs": []
    },
    {
      "cell_type": "code",
      "source": [
        "for fea in attributes:\n",
        "  print(fea)\n",
        "  lis = train[fea].unique()\n",
        "  print(lis)\n",
        "  print(\"--------\")"
      ],
      "metadata": {
        "colab": {
          "base_uri": "https://localhost:8080/"
        },
        "id": "DJFO_JjbFNef",
        "outputId": "17b379f5-bee4-427d-ac74-0b2d8993436a"
      },
      "execution_count": 43,
      "outputs": [
        {
          "output_type": "stream",
          "name": "stdout",
          "text": [
            "Pclass\n",
            "[3 1 2]\n",
            "--------\n",
            "Sex\n",
            "[1 0]\n",
            "--------\n",
            "Age\n",
            "[0 3 1 2]\n",
            "--------\n",
            "Fare\n",
            "[0 4 1 2 3]\n",
            "--------\n",
            "family_size\n",
            "[ 1  0  4  2  6  5  3  7 10]\n",
            "--------\n"
          ]
        }
      ]
    },
    {
      "cell_type": "markdown",
      "source": [
        "**STANDARDIZE THE DATASET**"
      ],
      "metadata": {
        "id": "N7hjJ3h_L6wK"
      }
    },
    {
      "cell_type": "markdown",
      "source": [
        "1. Normalize Data\n",
        "\n",
        "We use normalization to refer to rescaling an input varibale to range between 0 and 1. \n",
        "\n",
        "Normalizatio requires that you know the minimum and maximum values for each attribute\n",
        "\n",
        "2. Standardize Data\n",
        "\n",
        "Standardization is a rescaling technique that refers to centering the distribution of the data on the value 0 and the standard deviation to the value 1. \n",
        "\n",
        "Together \n"
      ],
      "metadata": {
        "id": "AHb-Why-Hms6"
      }
    },
    {
      "cell_type": "markdown",
      "source": [
        "![image.png](data:image/png;base64,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)"
      ],
      "metadata": {
        "id": "czN0KfYnjJRj"
      }
    },
    {
      "cell_type": "code",
      "source": [
        "def StandardScaler(train,attributes):\n",
        "  mean=[]\n",
        "  std = []\n",
        "  #calculating the mean and standard deviation of each column\n",
        "  for fea in attributes:\n",
        "    mean.append(np.mean(train[fea]))\n",
        "    std.append(np.std(train[fea]))\n",
        "\n",
        "  #appling StandardScaler on each element of every column\n",
        "  for i in range(len(attributes)):\n",
        "    lis = []\n",
        "    for x in train[attributes[i]]:\n",
        "       lis.append((x-mean[i])/std[i])\n",
        "    train[attributes[i]] = lis\n",
        "    print(attributes[i] ,\" : \",train[attributes[i]].unique())\n",
        "    \n",
        "  return train\n",
        "\n",
        "train = StandardScaler(train,attributes)"
      ],
      "metadata": {
        "colab": {
          "base_uri": "https://localhost:8080/"
        },
        "id": "sxmbdaB2gNe4",
        "outputId": "d4be4a85-f378-4674-b334-1cf45e43c03a"
      },
      "execution_count": 44,
      "outputs": [
        {
          "output_type": "stream",
          "name": "stdout",
          "text": [
            "Pclass  :  [ 0.84191642 -1.54609786 -0.35209072]\n",
            "Sex  :  [ 0.74349692 -1.34499549]\n",
            "Age  :  [-1.31648546  1.37193804 -0.42034429  0.47579688]\n",
            "Fare  :  [-1.39261797  1.41730407 -0.69013746  0.01234305  0.71482356]\n",
            "family_size  :  [ 0.07335229 -0.55834605  1.96844733  0.70505064  3.23184402  2.60014567\n",
            "  1.33674898  3.86354236  5.7586374 ]\n"
          ]
        }
      ]
    },
    {
      "cell_type": "code",
      "source": [
        "#Splitting the data into train and test after data processing\n",
        "test = train.loc[891:1309]\n",
        "test.index = list(range(test.shape[0]))\n",
        "train = train.loc[0:890]\n",
        "train.index = list(range(train.shape[0]))\n"
      ],
      "metadata": {
        "id": "uTODykehr-S7"
      },
      "execution_count": 45,
      "outputs": []
    },
    {
      "cell_type": "code",
      "source": [
        "train"
      ],
      "metadata": {
        "colab": {
          "base_uri": "https://localhost:8080/",
          "height": 424
        },
        "id": "WnjXakFetC4I",
        "outputId": "3f6549ae-11f8-4a5f-e342-4ff8b0376d2f"
      },
      "execution_count": 46,
      "outputs": [
        {
          "output_type": "execute_result",
          "data": {
            "text/plain": [
              "     PassengerId    Pclass       Sex       Age      Fare  family_size\n",
              "0              1  0.841916  0.743497 -1.316485 -1.392618     0.073352\n",
              "1              2 -1.546098 -1.344995  1.371938  1.417304     0.073352\n",
              "2              3  0.841916 -1.344995 -0.420344 -0.690137    -0.558346\n",
              "3              4 -1.546098 -1.344995  0.475797  1.417304     0.073352\n",
              "4              5  0.841916  0.743497  0.475797 -0.690137    -0.558346\n",
              "..           ...       ...       ...       ...       ...          ...\n",
              "886          887 -0.352091  0.743497  0.475797  0.012343    -0.558346\n",
              "887          888 -1.546098 -1.344995 -1.316485  0.714824    -0.558346\n",
              "888          889  0.841916 -1.344995 -0.420344  0.714824     1.336749\n",
              "889          890 -1.546098  0.743497 -0.420344  0.714824    -0.558346\n",
              "890          891  0.841916  0.743497  0.475797 -1.392618    -0.558346\n",
              "\n",
              "[891 rows x 6 columns]"
            ],
            "text/html": [
              "\n",
              "  <div id=\"df-07b5fd1c-545b-49bc-a2a2-2c6683b68ed7\">\n",
              "    <div class=\"colab-df-container\">\n",
              "      <div>\n",
              "<style scoped>\n",
              "    .dataframe tbody tr th:only-of-type {\n",
              "        vertical-align: middle;\n",
              "    }\n",
              "\n",
              "    .dataframe tbody tr th {\n",
              "        vertical-align: top;\n",
              "    }\n",
              "\n",
              "    .dataframe thead th {\n",
              "        text-align: right;\n",
              "    }\n",
              "</style>\n",
              "<table border=\"1\" class=\"dataframe\">\n",
              "  <thead>\n",
              "    <tr style=\"text-align: right;\">\n",
              "      <th></th>\n",
              "      <th>PassengerId</th>\n",
              "      <th>Pclass</th>\n",
              "      <th>Sex</th>\n",
              "      <th>Age</th>\n",
              "      <th>Fare</th>\n",
              "      <th>family_size</th>\n",
              "    </tr>\n",
              "  </thead>\n",
              "  <tbody>\n",
              "    <tr>\n",
              "      <th>0</th>\n",
              "      <td>1</td>\n",
              "      <td>0.841916</td>\n",
              "      <td>0.743497</td>\n",
              "      <td>-1.316485</td>\n",
              "      <td>-1.392618</td>\n",
              "      <td>0.073352</td>\n",
              "    </tr>\n",
              "    <tr>\n",
              "      <th>1</th>\n",
              "      <td>2</td>\n",
              "      <td>-1.546098</td>\n",
              "      <td>-1.344995</td>\n",
              "      <td>1.371938</td>\n",
              "      <td>1.417304</td>\n",
              "      <td>0.073352</td>\n",
              "    </tr>\n",
              "    <tr>\n",
              "      <th>2</th>\n",
              "      <td>3</td>\n",
              "      <td>0.841916</td>\n",
              "      <td>-1.344995</td>\n",
              "      <td>-0.420344</td>\n",
              "      <td>-0.690137</td>\n",
              "      <td>-0.558346</td>\n",
              "    </tr>\n",
              "    <tr>\n",
              "      <th>3</th>\n",
              "      <td>4</td>\n",
              "      <td>-1.546098</td>\n",
              "      <td>-1.344995</td>\n",
              "      <td>0.475797</td>\n",
              "      <td>1.417304</td>\n",
              "      <td>0.073352</td>\n",
              "    </tr>\n",
              "    <tr>\n",
              "      <th>4</th>\n",
              "      <td>5</td>\n",
              "      <td>0.841916</td>\n",
              "      <td>0.743497</td>\n",
              "      <td>0.475797</td>\n",
              "      <td>-0.690137</td>\n",
              "      <td>-0.558346</td>\n",
              "    </tr>\n",
              "    <tr>\n",
              "      <th>...</th>\n",
              "      <td>...</td>\n",
              "      <td>...</td>\n",
              "      <td>...</td>\n",
              "      <td>...</td>\n",
              "      <td>...</td>\n",
              "      <td>...</td>\n",
              "    </tr>\n",
              "    <tr>\n",
              "      <th>886</th>\n",
              "      <td>887</td>\n",
              "      <td>-0.352091</td>\n",
              "      <td>0.743497</td>\n",
              "      <td>0.475797</td>\n",
              "      <td>0.012343</td>\n",
              "      <td>-0.558346</td>\n",
              "    </tr>\n",
              "    <tr>\n",
              "      <th>887</th>\n",
              "      <td>888</td>\n",
              "      <td>-1.546098</td>\n",
              "      <td>-1.344995</td>\n",
              "      <td>-1.316485</td>\n",
              "      <td>0.714824</td>\n",
              "      <td>-0.558346</td>\n",
              "    </tr>\n",
              "    <tr>\n",
              "      <th>888</th>\n",
              "      <td>889</td>\n",
              "      <td>0.841916</td>\n",
              "      <td>-1.344995</td>\n",
              "      <td>-0.420344</td>\n",
              "      <td>0.714824</td>\n",
              "      <td>1.336749</td>\n",
              "    </tr>\n",
              "    <tr>\n",
              "      <th>889</th>\n",
              "      <td>890</td>\n",
              "      <td>-1.546098</td>\n",
              "      <td>0.743497</td>\n",
              "      <td>-0.420344</td>\n",
              "      <td>0.714824</td>\n",
              "      <td>-0.558346</td>\n",
              "    </tr>\n",
              "    <tr>\n",
              "      <th>890</th>\n",
              "      <td>891</td>\n",
              "      <td>0.841916</td>\n",
              "      <td>0.743497</td>\n",
              "      <td>0.475797</td>\n",
              "      <td>-1.392618</td>\n",
              "      <td>-0.558346</td>\n",
              "    </tr>\n",
              "  </tbody>\n",
              "</table>\n",
              "<p>891 rows × 6 columns</p>\n",
              "</div>\n",
              "      <button class=\"colab-df-convert\" onclick=\"convertToInteractive('df-07b5fd1c-545b-49bc-a2a2-2c6683b68ed7')\"\n",
              "              title=\"Convert this dataframe to an interactive table.\"\n",
              "              style=\"display:none;\">\n",
              "        \n",
              "  <svg xmlns=\"http://www.w3.org/2000/svg\" height=\"24px\"viewBox=\"0 0 24 24\"\n",
              "       width=\"24px\">\n",
              "    <path d=\"M0 0h24v24H0V0z\" fill=\"none\"/>\n",
              "    <path d=\"M18.56 5.44l.94 2.06.94-2.06 2.06-.94-2.06-.94-.94-2.06-.94 2.06-2.06.94zm-11 1L8.5 8.5l.94-2.06 2.06-.94-2.06-.94L8.5 2.5l-.94 2.06-2.06.94zm10 10l.94 2.06.94-2.06 2.06-.94-2.06-.94-.94-2.06-.94 2.06-2.06.94z\"/><path d=\"M17.41 7.96l-1.37-1.37c-.4-.4-.92-.59-1.43-.59-.52 0-1.04.2-1.43.59L10.3 9.45l-7.72 7.72c-.78.78-.78 2.05 0 2.83L4 21.41c.39.39.9.59 1.41.59.51 0 1.02-.2 1.41-.59l7.78-7.78 2.81-2.81c.8-.78.8-2.07 0-2.86zM5.41 20L4 18.59l7.72-7.72 1.47 1.35L5.41 20z\"/>\n",
              "  </svg>\n",
              "      </button>\n",
              "      \n",
              "  <style>\n",
              "    .colab-df-container {\n",
              "      display:flex;\n",
              "      flex-wrap:wrap;\n",
              "      gap: 12px;\n",
              "    }\n",
              "\n",
              "    .colab-df-convert {\n",
              "      background-color: #E8F0FE;\n",
              "      border: none;\n",
              "      border-radius: 50%;\n",
              "      cursor: pointer;\n",
              "      display: none;\n",
              "      fill: #1967D2;\n",
              "      height: 32px;\n",
              "      padding: 0 0 0 0;\n",
              "      width: 32px;\n",
              "    }\n",
              "\n",
              "    .colab-df-convert:hover {\n",
              "      background-color: #E2EBFA;\n",
              "      box-shadow: 0px 1px 2px rgba(60, 64, 67, 0.3), 0px 1px 3px 1px rgba(60, 64, 67, 0.15);\n",
              "      fill: #174EA6;\n",
              "    }\n",
              "\n",
              "    [theme=dark] .colab-df-convert {\n",
              "      background-color: #3B4455;\n",
              "      fill: #D2E3FC;\n",
              "    }\n",
              "\n",
              "    [theme=dark] .colab-df-convert:hover {\n",
              "      background-color: #434B5C;\n",
              "      box-shadow: 0px 1px 3px 1px rgba(0, 0, 0, 0.15);\n",
              "      filter: drop-shadow(0px 1px 2px rgba(0, 0, 0, 0.3));\n",
              "      fill: #FFFFFF;\n",
              "    }\n",
              "  </style>\n",
              "\n",
              "      <script>\n",
              "        const buttonEl =\n",
              "          document.querySelector('#df-07b5fd1c-545b-49bc-a2a2-2c6683b68ed7 button.colab-df-convert');\n",
              "        buttonEl.style.display =\n",
              "          google.colab.kernel.accessAllowed ? 'block' : 'none';\n",
              "\n",
              "        async function convertToInteractive(key) {\n",
              "          const element = document.querySelector('#df-07b5fd1c-545b-49bc-a2a2-2c6683b68ed7');\n",
              "          const dataTable =\n",
              "            await google.colab.kernel.invokeFunction('convertToInteractive',\n",
              "                                                     [key], {});\n",
              "          if (!dataTable) return;\n",
              "\n",
              "          const docLinkHtml = 'Like what you see? Visit the ' +\n",
              "            '<a target=\"_blank\" href=https://colab.research.google.com/notebooks/data_table.ipynb>data table notebook</a>'\n",
              "            + ' to learn more about interactive tables.';\n",
              "          element.innerHTML = '';\n",
              "          dataTable['output_type'] = 'display_data';\n",
              "          await google.colab.output.renderOutput(dataTable, element);\n",
              "          const docLink = document.createElement('div');\n",
              "          docLink.innerHTML = docLinkHtml;\n",
              "          element.appendChild(docLink);\n",
              "        }\n",
              "      </script>\n",
              "    </div>\n",
              "  </div>\n",
              "  "
            ]
          },
          "metadata": {},
          "execution_count": 46
        }
      ]
    },
    {
      "cell_type": "code",
      "source": [
        "test"
      ],
      "metadata": {
        "colab": {
          "base_uri": "https://localhost:8080/",
          "height": 424
        },
        "id": "1VSTBdB97MV4",
        "outputId": "ed691f91-6786-4838-8346-b3d238509220"
      },
      "execution_count": 47,
      "outputs": [
        {
          "output_type": "execute_result",
          "data": {
            "text/plain": [
              "     PassengerId    Pclass       Sex       Age      Fare  family_size\n",
              "0            892  0.841916  0.743497  0.475797 -1.392618    -0.558346\n",
              "1            893  0.841916 -1.344995  1.371938 -1.392618     0.073352\n",
              "2            894 -0.352091  0.743497  1.371938 -0.690137    -0.558346\n",
              "3            895  0.841916  0.743497  0.475797 -0.690137    -0.558346\n",
              "4            896  0.841916 -1.344995 -1.316485  0.012343     0.705051\n",
              "..           ...       ...       ...       ...       ...          ...\n",
              "413         1305  0.841916  0.743497 -0.420344 -0.690137    -0.558346\n",
              "414         1306 -1.546098 -1.344995  1.371938  1.417304    -0.558346\n",
              "415         1307  0.841916  0.743497  1.371938 -1.392618    -0.558346\n",
              "416         1308  0.841916  0.743497 -0.420344 -0.690137    -0.558346\n",
              "417         1309  0.841916  0.743497 -0.420344  0.714824     0.705051\n",
              "\n",
              "[418 rows x 6 columns]"
            ],
            "text/html": [
              "\n",
              "  <div id=\"df-d0e0c717-368e-4a30-8195-d4ef2b1b749c\">\n",
              "    <div class=\"colab-df-container\">\n",
              "      <div>\n",
              "<style scoped>\n",
              "    .dataframe tbody tr th:only-of-type {\n",
              "        vertical-align: middle;\n",
              "    }\n",
              "\n",
              "    .dataframe tbody tr th {\n",
              "        vertical-align: top;\n",
              "    }\n",
              "\n",
              "    .dataframe thead th {\n",
              "        text-align: right;\n",
              "    }\n",
              "</style>\n",
              "<table border=\"1\" class=\"dataframe\">\n",
              "  <thead>\n",
              "    <tr style=\"text-align: right;\">\n",
              "      <th></th>\n",
              "      <th>PassengerId</th>\n",
              "      <th>Pclass</th>\n",
              "      <th>Sex</th>\n",
              "      <th>Age</th>\n",
              "      <th>Fare</th>\n",
              "      <th>family_size</th>\n",
              "    </tr>\n",
              "  </thead>\n",
              "  <tbody>\n",
              "    <tr>\n",
              "      <th>0</th>\n",
              "      <td>892</td>\n",
              "      <td>0.841916</td>\n",
              "      <td>0.743497</td>\n",
              "      <td>0.475797</td>\n",
              "      <td>-1.392618</td>\n",
              "      <td>-0.558346</td>\n",
              "    </tr>\n",
              "    <tr>\n",
              "      <th>1</th>\n",
              "      <td>893</td>\n",
              "      <td>0.841916</td>\n",
              "      <td>-1.344995</td>\n",
              "      <td>1.371938</td>\n",
              "      <td>-1.392618</td>\n",
              "      <td>0.073352</td>\n",
              "    </tr>\n",
              "    <tr>\n",
              "      <th>2</th>\n",
              "      <td>894</td>\n",
              "      <td>-0.352091</td>\n",
              "      <td>0.743497</td>\n",
              "      <td>1.371938</td>\n",
              "      <td>-0.690137</td>\n",
              "      <td>-0.558346</td>\n",
              "    </tr>\n",
              "    <tr>\n",
              "      <th>3</th>\n",
              "      <td>895</td>\n",
              "      <td>0.841916</td>\n",
              "      <td>0.743497</td>\n",
              "      <td>0.475797</td>\n",
              "      <td>-0.690137</td>\n",
              "      <td>-0.558346</td>\n",
              "    </tr>\n",
              "    <tr>\n",
              "      <th>4</th>\n",
              "      <td>896</td>\n",
              "      <td>0.841916</td>\n",
              "      <td>-1.344995</td>\n",
              "      <td>-1.316485</td>\n",
              "      <td>0.012343</td>\n",
              "      <td>0.705051</td>\n",
              "    </tr>\n",
              "    <tr>\n",
              "      <th>...</th>\n",
              "      <td>...</td>\n",
              "      <td>...</td>\n",
              "      <td>...</td>\n",
              "      <td>...</td>\n",
              "      <td>...</td>\n",
              "      <td>...</td>\n",
              "    </tr>\n",
              "    <tr>\n",
              "      <th>413</th>\n",
              "      <td>1305</td>\n",
              "      <td>0.841916</td>\n",
              "      <td>0.743497</td>\n",
              "      <td>-0.420344</td>\n",
              "      <td>-0.690137</td>\n",
              "      <td>-0.558346</td>\n",
              "    </tr>\n",
              "    <tr>\n",
              "      <th>414</th>\n",
              "      <td>1306</td>\n",
              "      <td>-1.546098</td>\n",
              "      <td>-1.344995</td>\n",
              "      <td>1.371938</td>\n",
              "      <td>1.417304</td>\n",
              "      <td>-0.558346</td>\n",
              "    </tr>\n",
              "    <tr>\n",
              "      <th>415</th>\n",
              "      <td>1307</td>\n",
              "      <td>0.841916</td>\n",
              "      <td>0.743497</td>\n",
              "      <td>1.371938</td>\n",
              "      <td>-1.392618</td>\n",
              "      <td>-0.558346</td>\n",
              "    </tr>\n",
              "    <tr>\n",
              "      <th>416</th>\n",
              "      <td>1308</td>\n",
              "      <td>0.841916</td>\n",
              "      <td>0.743497</td>\n",
              "      <td>-0.420344</td>\n",
              "      <td>-0.690137</td>\n",
              "      <td>-0.558346</td>\n",
              "    </tr>\n",
              "    <tr>\n",
              "      <th>417</th>\n",
              "      <td>1309</td>\n",
              "      <td>0.841916</td>\n",
              "      <td>0.743497</td>\n",
              "      <td>-0.420344</td>\n",
              "      <td>0.714824</td>\n",
              "      <td>0.705051</td>\n",
              "    </tr>\n",
              "  </tbody>\n",
              "</table>\n",
              "<p>418 rows × 6 columns</p>\n",
              "</div>\n",
              "      <button class=\"colab-df-convert\" onclick=\"convertToInteractive('df-d0e0c717-368e-4a30-8195-d4ef2b1b749c')\"\n",
              "              title=\"Convert this dataframe to an interactive table.\"\n",
              "              style=\"display:none;\">\n",
              "        \n",
              "  <svg xmlns=\"http://www.w3.org/2000/svg\" height=\"24px\"viewBox=\"0 0 24 24\"\n",
              "       width=\"24px\">\n",
              "    <path d=\"M0 0h24v24H0V0z\" fill=\"none\"/>\n",
              "    <path d=\"M18.56 5.44l.94 2.06.94-2.06 2.06-.94-2.06-.94-.94-2.06-.94 2.06-2.06.94zm-11 1L8.5 8.5l.94-2.06 2.06-.94-2.06-.94L8.5 2.5l-.94 2.06-2.06.94zm10 10l.94 2.06.94-2.06 2.06-.94-2.06-.94-.94-2.06-.94 2.06-2.06.94z\"/><path d=\"M17.41 7.96l-1.37-1.37c-.4-.4-.92-.59-1.43-.59-.52 0-1.04.2-1.43.59L10.3 9.45l-7.72 7.72c-.78.78-.78 2.05 0 2.83L4 21.41c.39.39.9.59 1.41.59.51 0 1.02-.2 1.41-.59l7.78-7.78 2.81-2.81c.8-.78.8-2.07 0-2.86zM5.41 20L4 18.59l7.72-7.72 1.47 1.35L5.41 20z\"/>\n",
              "  </svg>\n",
              "      </button>\n",
              "      \n",
              "  <style>\n",
              "    .colab-df-container {\n",
              "      display:flex;\n",
              "      flex-wrap:wrap;\n",
              "      gap: 12px;\n",
              "    }\n",
              "\n",
              "    .colab-df-convert {\n",
              "      background-color: #E8F0FE;\n",
              "      border: none;\n",
              "      border-radius: 50%;\n",
              "      cursor: pointer;\n",
              "      display: none;\n",
              "      fill: #1967D2;\n",
              "      height: 32px;\n",
              "      padding: 0 0 0 0;\n",
              "      width: 32px;\n",
              "    }\n",
              "\n",
              "    .colab-df-convert:hover {\n",
              "      background-color: #E2EBFA;\n",
              "      box-shadow: 0px 1px 2px rgba(60, 64, 67, 0.3), 0px 1px 3px 1px rgba(60, 64, 67, 0.15);\n",
              "      fill: #174EA6;\n",
              "    }\n",
              "\n",
              "    [theme=dark] .colab-df-convert {\n",
              "      background-color: #3B4455;\n",
              "      fill: #D2E3FC;\n",
              "    }\n",
              "\n",
              "    [theme=dark] .colab-df-convert:hover {\n",
              "      background-color: #434B5C;\n",
              "      box-shadow: 0px 1px 3px 1px rgba(0, 0, 0, 0.15);\n",
              "      filter: drop-shadow(0px 1px 2px rgba(0, 0, 0, 0.3));\n",
              "      fill: #FFFFFF;\n",
              "    }\n",
              "  </style>\n",
              "\n",
              "      <script>\n",
              "        const buttonEl =\n",
              "          document.querySelector('#df-d0e0c717-368e-4a30-8195-d4ef2b1b749c button.colab-df-convert');\n",
              "        buttonEl.style.display =\n",
              "          google.colab.kernel.accessAllowed ? 'block' : 'none';\n",
              "\n",
              "        async function convertToInteractive(key) {\n",
              "          const element = document.querySelector('#df-d0e0c717-368e-4a30-8195-d4ef2b1b749c');\n",
              "          const dataTable =\n",
              "            await google.colab.kernel.invokeFunction('convertToInteractive',\n",
              "                                                     [key], {});\n",
              "          if (!dataTable) return;\n",
              "\n",
              "          const docLinkHtml = 'Like what you see? Visit the ' +\n",
              "            '<a target=\"_blank\" href=https://colab.research.google.com/notebooks/data_table.ipynb>data table notebook</a>'\n",
              "            + ' to learn more about interactive tables.';\n",
              "          element.innerHTML = '';\n",
              "          dataTable['output_type'] = 'display_data';\n",
              "          await google.colab.output.renderOutput(dataTable, element);\n",
              "          const docLink = document.createElement('div');\n",
              "          docLink.innerHTML = docLinkHtml;\n",
              "          element.appendChild(docLink);\n",
              "        }\n",
              "      </script>\n",
              "    </div>\n",
              "  </div>\n",
              "  "
            ]
          },
          "metadata": {},
          "execution_count": 47
        }
      ]
    },
    {
      "cell_type": "code",
      "source": [
        "train.drop(['PassengerId'], axis=1, inplace=True)\n",
        "test.drop(['PassengerId'], axis=1, inplace=True)"
      ],
      "metadata": {
        "colab": {
          "base_uri": "https://localhost:8080/"
        },
        "id": "rLLN598htETy",
        "outputId": "8acec872-1cf8-4239-c829-f84cf464ea27"
      },
      "execution_count": 48,
      "outputs": [
        {
          "output_type": "stream",
          "name": "stderr",
          "text": [
            "/usr/local/lib/python3.7/dist-packages/pandas/core/frame.py:4913: SettingWithCopyWarning: \n",
            "A value is trying to be set on a copy of a slice from a DataFrame\n",
            "\n",
            "See the caveats in the documentation: https://pandas.pydata.org/pandas-docs/stable/user_guide/indexing.html#returning-a-view-versus-a-copy\n",
            "  errors=errors,\n"
          ]
        }
      ]
    },
    {
      "cell_type": "code",
      "source": [
        "print(train.shape,test.shape)"
      ],
      "metadata": {
        "colab": {
          "base_uri": "https://localhost:8080/"
        },
        "id": "mECs__YltOCn",
        "outputId": "9c6e6b6a-c154-45fa-b195-5f85179a3721"
      },
      "execution_count": 49,
      "outputs": [
        {
          "output_type": "stream",
          "name": "stdout",
          "text": [
            "(891, 5) (418, 5)\n"
          ]
        }
      ]
    },
    {
      "cell_type": "code",
      "source": [
        "y_train.to_frame()"
      ],
      "metadata": {
        "colab": {
          "base_uri": "https://localhost:8080/",
          "height": 424
        },
        "id": "wGAEi8yyImER",
        "outputId": "acda77fc-d96e-43d9-9000-60c6765f5e2f"
      },
      "execution_count": 50,
      "outputs": [
        {
          "output_type": "execute_result",
          "data": {
            "text/plain": [
              "     Survived\n",
              "0           0\n",
              "1           1\n",
              "2           1\n",
              "3           1\n",
              "4           0\n",
              "..        ...\n",
              "886         0\n",
              "887         1\n",
              "888         0\n",
              "889         1\n",
              "890         0\n",
              "\n",
              "[891 rows x 1 columns]"
            ],
            "text/html": [
              "\n",
              "  <div id=\"df-c606ef29-cd75-4fb3-85dd-5cf441316690\">\n",
              "    <div class=\"colab-df-container\">\n",
              "      <div>\n",
              "<style scoped>\n",
              "    .dataframe tbody tr th:only-of-type {\n",
              "        vertical-align: middle;\n",
              "    }\n",
              "\n",
              "    .dataframe tbody tr th {\n",
              "        vertical-align: top;\n",
              "    }\n",
              "\n",
              "    .dataframe thead th {\n",
              "        text-align: right;\n",
              "    }\n",
              "</style>\n",
              "<table border=\"1\" class=\"dataframe\">\n",
              "  <thead>\n",
              "    <tr style=\"text-align: right;\">\n",
              "      <th></th>\n",
              "      <th>Survived</th>\n",
              "    </tr>\n",
              "  </thead>\n",
              "  <tbody>\n",
              "    <tr>\n",
              "      <th>0</th>\n",
              "      <td>0</td>\n",
              "    </tr>\n",
              "    <tr>\n",
              "      <th>1</th>\n",
              "      <td>1</td>\n",
              "    </tr>\n",
              "    <tr>\n",
              "      <th>2</th>\n",
              "      <td>1</td>\n",
              "    </tr>\n",
              "    <tr>\n",
              "      <th>3</th>\n",
              "      <td>1</td>\n",
              "    </tr>\n",
              "    <tr>\n",
              "      <th>4</th>\n",
              "      <td>0</td>\n",
              "    </tr>\n",
              "    <tr>\n",
              "      <th>...</th>\n",
              "      <td>...</td>\n",
              "    </tr>\n",
              "    <tr>\n",
              "      <th>886</th>\n",
              "      <td>0</td>\n",
              "    </tr>\n",
              "    <tr>\n",
              "      <th>887</th>\n",
              "      <td>1</td>\n",
              "    </tr>\n",
              "    <tr>\n",
              "      <th>888</th>\n",
              "      <td>0</td>\n",
              "    </tr>\n",
              "    <tr>\n",
              "      <th>889</th>\n",
              "      <td>1</td>\n",
              "    </tr>\n",
              "    <tr>\n",
              "      <th>890</th>\n",
              "      <td>0</td>\n",
              "    </tr>\n",
              "  </tbody>\n",
              "</table>\n",
              "<p>891 rows × 1 columns</p>\n",
              "</div>\n",
              "      <button class=\"colab-df-convert\" onclick=\"convertToInteractive('df-c606ef29-cd75-4fb3-85dd-5cf441316690')\"\n",
              "              title=\"Convert this dataframe to an interactive table.\"\n",
              "              style=\"display:none;\">\n",
              "        \n",
              "  <svg xmlns=\"http://www.w3.org/2000/svg\" height=\"24px\"viewBox=\"0 0 24 24\"\n",
              "       width=\"24px\">\n",
              "    <path d=\"M0 0h24v24H0V0z\" fill=\"none\"/>\n",
              "    <path d=\"M18.56 5.44l.94 2.06.94-2.06 2.06-.94-2.06-.94-.94-2.06-.94 2.06-2.06.94zm-11 1L8.5 8.5l.94-2.06 2.06-.94-2.06-.94L8.5 2.5l-.94 2.06-2.06.94zm10 10l.94 2.06.94-2.06 2.06-.94-2.06-.94-.94-2.06-.94 2.06-2.06.94z\"/><path d=\"M17.41 7.96l-1.37-1.37c-.4-.4-.92-.59-1.43-.59-.52 0-1.04.2-1.43.59L10.3 9.45l-7.72 7.72c-.78.78-.78 2.05 0 2.83L4 21.41c.39.39.9.59 1.41.59.51 0 1.02-.2 1.41-.59l7.78-7.78 2.81-2.81c.8-.78.8-2.07 0-2.86zM5.41 20L4 18.59l7.72-7.72 1.47 1.35L5.41 20z\"/>\n",
              "  </svg>\n",
              "      </button>\n",
              "      \n",
              "  <style>\n",
              "    .colab-df-container {\n",
              "      display:flex;\n",
              "      flex-wrap:wrap;\n",
              "      gap: 12px;\n",
              "    }\n",
              "\n",
              "    .colab-df-convert {\n",
              "      background-color: #E8F0FE;\n",
              "      border: none;\n",
              "      border-radius: 50%;\n",
              "      cursor: pointer;\n",
              "      display: none;\n",
              "      fill: #1967D2;\n",
              "      height: 32px;\n",
              "      padding: 0 0 0 0;\n",
              "      width: 32px;\n",
              "    }\n",
              "\n",
              "    .colab-df-convert:hover {\n",
              "      background-color: #E2EBFA;\n",
              "      box-shadow: 0px 1px 2px rgba(60, 64, 67, 0.3), 0px 1px 3px 1px rgba(60, 64, 67, 0.15);\n",
              "      fill: #174EA6;\n",
              "    }\n",
              "\n",
              "    [theme=dark] .colab-df-convert {\n",
              "      background-color: #3B4455;\n",
              "      fill: #D2E3FC;\n",
              "    }\n",
              "\n",
              "    [theme=dark] .colab-df-convert:hover {\n",
              "      background-color: #434B5C;\n",
              "      box-shadow: 0px 1px 3px 1px rgba(0, 0, 0, 0.15);\n",
              "      filter: drop-shadow(0px 1px 2px rgba(0, 0, 0, 0.3));\n",
              "      fill: #FFFFFF;\n",
              "    }\n",
              "  </style>\n",
              "\n",
              "      <script>\n",
              "        const buttonEl =\n",
              "          document.querySelector('#df-c606ef29-cd75-4fb3-85dd-5cf441316690 button.colab-df-convert');\n",
              "        buttonEl.style.display =\n",
              "          google.colab.kernel.accessAllowed ? 'block' : 'none';\n",
              "\n",
              "        async function convertToInteractive(key) {\n",
              "          const element = document.querySelector('#df-c606ef29-cd75-4fb3-85dd-5cf441316690');\n",
              "          const dataTable =\n",
              "            await google.colab.kernel.invokeFunction('convertToInteractive',\n",
              "                                                     [key], {});\n",
              "          if (!dataTable) return;\n",
              "\n",
              "          const docLinkHtml = 'Like what you see? Visit the ' +\n",
              "            '<a target=\"_blank\" href=https://colab.research.google.com/notebooks/data_table.ipynb>data table notebook</a>'\n",
              "            + ' to learn more about interactive tables.';\n",
              "          element.innerHTML = '';\n",
              "          dataTable['output_type'] = 'display_data';\n",
              "          await google.colab.output.renderOutput(dataTable, element);\n",
              "          const docLink = document.createElement('div');\n",
              "          docLink.innerHTML = docLinkHtml;\n",
              "          element.appendChild(docLink);\n",
              "        }\n",
              "      </script>\n",
              "    </div>\n",
              "  </div>\n",
              "  "
            ]
          },
          "metadata": {},
          "execution_count": 50
        }
      ]
    },
    {
      "cell_type": "code",
      "source": [
        "train['Survived'] = y_train\n",
        "#.loc[row_indexer,col_indexer] = value"
      ],
      "metadata": {
        "colab": {
          "base_uri": "https://localhost:8080/"
        },
        "id": "fxa8E5fSG0yr",
        "outputId": "be38fe10-aeb8-4e4b-9d12-5fee6d8f0f7b"
      },
      "execution_count": 51,
      "outputs": [
        {
          "output_type": "stream",
          "name": "stderr",
          "text": [
            "/usr/local/lib/python3.7/dist-packages/ipykernel_launcher.py:1: SettingWithCopyWarning: \n",
            "A value is trying to be set on a copy of a slice from a DataFrame.\n",
            "Try using .loc[row_indexer,col_indexer] = value instead\n",
            "\n",
            "See the caveats in the documentation: https://pandas.pydata.org/pandas-docs/stable/user_guide/indexing.html#returning-a-view-versus-a-copy\n",
            "  \"\"\"Entry point for launching an IPython kernel.\n"
          ]
        }
      ]
    },
    {
      "cell_type": "code",
      "source": [
        "# x1 : first row, x2 : second row\n",
        "# value zero means there is no difference between two records\n",
        "def euclidena_dist (x1,x2):\n",
        "  dis = 0.0\n",
        "  # Alternative np.sum()\n",
        "  for i in range(len(x1)):\n",
        "    dis = dis + (x1[i] - x2[i] )**2\n",
        "  return np.sqrt(dis)"
      ],
      "metadata": {
        "id": "Kg-A4kZ_abXa"
      },
      "execution_count": 52,
      "outputs": []
    },
    {
      "cell_type": "markdown",
      "source": [
        "Using our distance function we will now find the closest match in our dataset when providing a vector."
      ],
      "metadata": {
        "id": "Gtwg3SjMl0ls"
      }
    },
    {
      "cell_type": "code",
      "source": [
        "def k_nearest_neighbor_list(test_case, train, nearest_neighbor=1, ignore_col = ['Survived']):\n",
        "\n",
        "  distances = []\n",
        "  for ix,row in train.loc[:,~train.columns.isin(ignore_col)].iterrows():\n",
        "  \n",
        "      #calculating the euclidean distance\n",
        "      dist = euclidena_dist (test_case,row) \n",
        "      distances.append((dist,ix)) \n",
        "  \n",
        "  #storing the index of distances in ascending order of distance\n",
        "  indices = [i[1] for i in sorted(distances, key= lambda i : i[0])] \n",
        "  \n",
        "  neighbors = train.loc[indices[:nearest_neighbor]]\n",
        "  \n",
        "  return neighbors\n",
        "\n",
        "# Function to return the dominat class among the K nearest neighbor Dataset returned\n",
        "def predict_result(test_case_series, train, nearest_neighbor=1, y='Survived'):\n",
        "    \n",
        "    neighbors = k_nearest_neighbor_list(test_case_series, train, nearest_neighbor)\n",
        "    res = 1 if neighbors[neighbors[y] == 1].count()[0] > neighbors[neighbors[y] == 0].count()[0] else 0\n",
        "    return res\n",
        "\n",
        "def accuracy_cal(actual, pred):\n",
        "  count = 0 \n",
        "  for i in list(range(len(actual))):\n",
        "    if actual['Survived'][i] == pred['Survived'][i] :\n",
        "        count = count + 1\n",
        "  return count/float(len(actual))*100\n",
        "\n",
        "\n",
        "                                                  "
      ],
      "metadata": {
        "id": "GejnUjsslwPQ"
      },
      "execution_count": 53,
      "outputs": []
    },
    {
      "cell_type": "code",
      "source": [
        "actual_val = pd.read_csv('gender_submission.csv') \n",
        "lis = {} "
      ],
      "metadata": {
        "id": "sHgO42O6Gc7F"
      },
      "execution_count": 57,
      "outputs": []
    },
    {
      "cell_type": "code",
      "source": [
        "#calculating accuracy from 1 to 50\n",
        "for i in list(range(1,50)):\n",
        "  val = []\n",
        "  k=i\n",
        "  for ind,row in test.iterrows():\n",
        "    val.append(predict_result(row,train,k))\n",
        "  pred_val = pd.DataFrame(val,columns=['Survived'])\n",
        "  acc=accuracy_cal(actual_val,pred_val)\n",
        "  print(\"Accuracy is : \",i,\" : \",acc )\n",
        "  lis[i]=acc"
      ],
      "metadata": {
        "id": "0bjTdTyvESLv"
      },
      "execution_count": null,
      "outputs": []
    },
    {
      "cell_type": "code",
      "source": [
        "  val = []\n",
        "  k=10\n",
        "  for ind,row in test.iterrows():\n",
        "    val.append(predict_result(row,train,k))\n",
        "  pred_val = pd.DataFrame(val,columns=['Survived'])\n",
        "  print(\"Accuracy is : \" , accuracy_cal(actual_val,pred_val))"
      ],
      "metadata": {
        "colab": {
          "base_uri": "https://localhost:8080/"
        },
        "id": "x-l-APuLx5BS",
        "outputId": "0ce0593d-d864-4cfa-a814-2f358f3665e6"
      },
      "execution_count": 60,
      "outputs": [
        {
          "output_type": "stream",
          "name": "stdout",
          "text": [
            "Accuracy is :  87.32057416267942\n"
          ]
        }
      ]
    },
    {
      "cell_type": "code",
      "source": [
        "#calculating accuracy from 50 to 100\n",
        "for i in list(range(50,100)):\n",
        "  val = []\n",
        "  k=i\n",
        "  for ind,row in test.iterrows():\n",
        "    val.append(predict_result(row,train,k))\n",
        "  pred_val = pd.DataFrame(val,columns=['Survived'])\n",
        "  acc=accuracy_cal(actual_val,pred_val)\n",
        "  print(\"Accuracy is : \",i,\" : \",acc )\n",
        "  lis[i]=acc"
      ],
      "metadata": {
        "id": "iUbInFlH1pl7"
      },
      "execution_count": null,
      "outputs": []
    },
    {
      "cell_type": "code",
      "source": [
        "lis"
      ],
      "metadata": {
        "colab": {
          "base_uri": "https://localhost:8080/"
        },
        "id": "8CS5hj35m0qU",
        "outputId": "8f42a5b4-f9c2-48a4-c5b9-74290343fdd5"
      },
      "execution_count": 137,
      "outputs": [
        {
          "output_type": "execute_result",
          "data": {
            "text/plain": [
              "[(1, 82.05741626794259),\n",
              " (2, 83.01435406698565),\n",
              " (3, 83.97129186602871),\n",
              " (4, 89.71291866028707),\n",
              " (5, 89.47368421052632),\n",
              " (6, 88.51674641148325),\n",
              " (7, 88.99521531100478),\n",
              " (8, 86.36363636363636),\n",
              " (9, 87.5598086124402),\n",
              " (10, 87.32057416267942),\n",
              " (11, 88.51674641148325),\n",
              " (12, 88.75598086124403),\n",
              " (13, 91.14832535885168),\n",
              " (14, 89.71291866028707),\n",
              " (15, 90.9090909090909),\n",
              " (16, 90.19138755980862),\n",
              " (17, 89.95215311004785),\n",
              " (18, 88.51674641148325),\n",
              " (19, 91.86602870813397),\n",
              " (20, 91.38755980861244),\n",
              " (21, 92.10526315789474),\n",
              " (22, 91.14832535885168),\n",
              " (23, 91.86602870813397),\n",
              " (24, 94.01913875598086),\n",
              " (25, 94.49760765550239),\n",
              " (26, 94.25837320574163),\n",
              " (27, 95.69377990430623),\n",
              " (28, 96.41148325358851),\n",
              " (29, 96.88995215311004),\n",
              " (30, 95.93301435406698),\n",
              " (31, 94.73684210526315),\n",
              " (32, 96.88995215311004),\n",
              " (33, 96.65071770334929),\n",
              " (34, 96.88995215311004),\n",
              " (35, 96.88995215311004),\n",
              " (36, 97.60765550239235),\n",
              " (37, 98.08612440191388),\n",
              " (38, 98.08612440191388),\n",
              " (39, 97.84688995215312),\n",
              " (40, 98.08612440191388),\n",
              " (41, 97.84688995215312),\n",
              " (42, 97.84688995215312),\n",
              " (43, 96.88995215311004),\n",
              " (44, 97.84688995215312),\n",
              " (45, 97.84688995215312),\n",
              " (46, 97.84688995215312),\n",
              " (47, 97.60765550239235),\n",
              " (48, 98.80382775119617),\n",
              " (49, 98.80382775119617),\n",
              " (50, 98.56459330143541),\n",
              " (51, 98.08612440191388),\n",
              " (52, 98.56459330143541),\n",
              " (53, 98.32535885167464),\n",
              " (54, 98.56459330143541),\n",
              " (55, 98.80382775119617),\n",
              " (56, 98.80382775119617),\n",
              " (57, 98.80382775119617),\n",
              " (58, 98.80382775119617),\n",
              " (59, 98.32535885167464),\n",
              " (60, 98.56459330143541),\n",
              " (61, 98.56459330143541),\n",
              " (62, 98.56459330143541),\n",
              " (63, 98.56459330143541),\n",
              " (64, 98.56459330143541),\n",
              " (65, 98.56459330143541),\n",
              " (66, 98.56459330143541),\n",
              " (67, 98.56459330143541),\n",
              " (68, 98.56459330143541),\n",
              " (69, 98.56459330143541),\n",
              " (70, 98.56459330143541),\n",
              " (71, 98.56459330143541),\n",
              " (72, 98.56459330143541),\n",
              " (73, 98.56459330143541),\n",
              " (74, 98.56459330143541),\n",
              " (75, 98.32535885167464),\n",
              " (76, 98.32535885167464),\n",
              " (77, 98.32535885167464),\n",
              " (78, 98.32535885167464),\n",
              " (79, 98.32535885167464),\n",
              " (80, 98.32535885167464),\n",
              " (81, 98.32535885167464),\n",
              " (82, 98.32535885167464),\n",
              " (83, 98.32535885167464),\n",
              " (84, 98.32535885167464),\n",
              " (85, 98.32535885167464),\n",
              " (86, 98.32535885167464),\n",
              " (87, 98.32535885167464),\n",
              " (88, 98.32535885167464),\n",
              " (89, 98.32535885167464),\n",
              " (90, 98.32535885167464),\n",
              " (91, 98.32535885167464),\n",
              " (92, 98.32535885167464),\n",
              " (93, 98.32535885167464),\n",
              " (94, 98.32535885167464),\n",
              " (95, 98.32535885167464),\n",
              " (96, 98.56459330143541),\n",
              " (97, 98.32535885167464),\n",
              " (98, 98.32535885167464),\n",
              " (99, 98.32535885167464)]"
            ]
          },
          "metadata": {},
          "execution_count": 137
        }
      ]
    },
    {
      "cell_type": "markdown",
      "source": [
        "**Maximum accuracy : 98.8 at k=48**"
      ],
      "metadata": {
        "id": "dEGZaCaKnll8"
      }
    },
    {
      "cell_type": "code",
      "source": [
        "lis = sorted(lis.items(), key = lambda x:x[0])"
      ],
      "metadata": {
        "id": "UU2dEnn-klvN"
      },
      "execution_count": 123,
      "outputs": []
    },
    {
      "cell_type": "code",
      "source": [
        "#extracting values and convering into individal list\n",
        "x = list(list(zip(*lis))[0])\n",
        "y = list(list(zip(*lis))[1])"
      ],
      "metadata": {
        "id": "7pVTMl7SlDiP"
      },
      "execution_count": 141,
      "outputs": []
    },
    {
      "cell_type": "code",
      "source": [
        "plt.title('Accuracy vs Value of k-nearest neighbour ')\n",
        "plt.plot(x, y)\n",
        "plt.xlabel('K-nearest neighbour')\n",
        "plt.ylabel('Accuracy')\n",
        "plt.show()"
      ],
      "metadata": {
        "colab": {
          "base_uri": "https://localhost:8080/",
          "height": 295
        },
        "id": "cif7goZcPVNk",
        "outputId": "6e18e363-86d0-4c8b-c1b7-0ecdeb9f9c5a"
      },
      "execution_count": 143,
      "outputs": [
        {
          "output_type": "display_data",
          "data": {
            "text/plain": [
              "<Figure size 432x288 with 1 Axes>"
            ],
            "image/png": "[encoded data removed]"
          },
          "metadata": {
            "needs_background": "light"
          }
        }
      ]
    }
  ]
}