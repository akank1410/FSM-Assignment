{
  "nbformat": 4,
  "nbformat_minor": 0,
  "metadata": {
    "colab": {
      "name": "PCA and K-means Algorithm from Scratch on IRIS Dataset.ipynb",
      "provenance": [],
      "collapsed_sections": []
    },
    "kernelspec": {
      "name": "python3",
      "display_name": "Python 3"
    },
    "language_info": {
      "name": "python"
    }
  },
  "cells": [
    {
      "cell_type": "code",
      "execution_count": null,
      "metadata": {
        "id": "D3kFaTndCFrE"
      },
      "outputs": [],
      "source": [
        "import os\n",
        "os.getcwd()\n",
        "\n",
        "#permission to access drive of linked account\n",
        "from google.colab import drive\n",
        "drive.mount('/content/gdrive', force_remount=True)\n",
        "\n",
        "#uploading the dataset zip file to google colab drive\n",
        "from google.colab import files\n",
        "files.upload()"
      ]
    },
    {
      "cell_type": "code",
      "source": [
        "import pandas as pd\n",
        "import numpy as np\n",
        "import matplotlib.pyplot as plt\n",
        "%matplotlib inline\n"
      ],
      "metadata": {
        "id": "p5a6FKmqCImn"
      },
      "execution_count": 2,
      "outputs": []
    },
    {
      "cell_type": "code",
      "source": [
        "#reading the file\n",
        "df = pd.read_csv('Iris Dataset.csv')\n",
        "target = df[['Species']]\n",
        "id = df[['Id']]\n",
        "train = df.iloc[:,1:len(df.columns)-1]"
      ],
      "metadata": {
        "id": "OgW_NTeUDYCg"
      },
      "execution_count": 3,
      "outputs": []
    },
    {
      "cell_type": "code",
      "source": [
        "target['Species'].unique()"
      ],
      "metadata": {
        "colab": {
          "base_uri": "https://localhost:8080/"
        },
        "id": "dUjLhcYJpygb",
        "outputId": "c4209cc5-4679-4c11-af83-8e0ab3613fff"
      },
      "execution_count": 4,
      "outputs": [
        {
          "output_type": "execute_result",
          "data": {
            "text/plain": [
              "array(['Iris-setosa', 'Iris-versicolor', 'Iris-virginica'], dtype=object)"
            ]
          },
          "metadata": {},
          "execution_count": 4
        }
      ]
    },
    {
      "cell_type": "code",
      "source": [
        "dic = {'Iris-setosa':0, 'Iris-versicolor':1, 'Iris-virginica':2}\n",
        "target['Species'] = target['Species'].map(dic)"
      ],
      "metadata": {
        "colab": {
          "base_uri": "https://localhost:8080/"
        },
        "id": "b5Mdj5vRpt7W",
        "outputId": "368243b8-9451-4c1a-b229-54592327f88f"
      },
      "execution_count": 5,
      "outputs": [
        {
          "output_type": "stream",
          "name": "stderr",
          "text": [
            "/usr/local/lib/python3.7/dist-packages/ipykernel_launcher.py:2: SettingWithCopyWarning: \n",
            "A value is trying to be set on a copy of a slice from a DataFrame.\n",
            "Try using .loc[row_indexer,col_indexer] = value instead\n",
            "\n",
            "See the caveats in the documentation: https://pandas.pydata.org/pandas-docs/stable/user_guide/indexing.html#returning-a-view-versus-a-copy\n",
            "  \n"
          ]
        }
      ]
    },
    {
      "cell_type": "markdown",
      "source": [
        "#**PCA ALGORITHM**"
      ],
      "metadata": {
        "id": "1qxNxTMUTL6w"
      }
    },
    {
      "cell_type": "markdown",
      "source": [
        "STEP-BY-STEP Implementation of PCA (Principle Component Analysis)\n",
        "\n",
        "1. Load the dataset\n",
        "2. Normalize the data - Scaling using z-score scalar\n",
        "3. Calculate the covariance matrix X of data points\n",
        "4. Sort the eigen vectors according to their eigen values in decreasing order. Choose first k eigen vectors and that will be the new k dimensions.\n",
        "5. Transform the original n dimensional data points into k dimensions."
      ],
      "metadata": {
        "id": "VwsqUG9uaZLi"
      }
    },
    {
      "cell_type": "code",
      "source": [
        "#Normalize the data\n",
        "def StandardScaler(train):\n",
        "  attributes = list(train.columns)\n",
        "  mean=[]\n",
        "  std = []\n",
        "  #calculating the mean and standard deviation of each column\n",
        "  for fea in attributes:\n",
        "    mean.append(np.mean(train[fea]))\n",
        "    std.append(np.std(train[fea]))\n",
        "\n",
        "  #appling StandardScaler on each element of every column\n",
        "  for i in range(len(attributes)):\n",
        "    lis = []\n",
        "    for x in train[attributes[i]]:\n",
        "       lis.append((x-mean[i])/std[i])\n",
        "    train[attributes[i]] = lis\n",
        "  \n",
        "  train = train.to_numpy()\n",
        "    \n",
        "  return train\n",
        "  \n",
        "def PCA(data):\n",
        "    #Calculate the covariance matrix X of data points\n",
        "    features = data.T\n",
        "    covariance_matrix = np.cov(features)\n",
        "    print('covariance_matrix is : \\n',covariance_matrix)\n",
        "    print(\"In the result, all the diagonal elements are exactly same. Rest of values represeents how features are inter-related to each other\")\n",
        "\n",
        "    #Find the eigen values and eigen vector, numpy.linearalgebra.eigen\n",
        "    values, vectors = np.linalg.eig(covariance_matrix)\n",
        "    print(\"\\n\\nValues : \" , values)\n",
        "    print(\"Vectors : \\n\" , vectors)\n",
        "    print(\"\\nFirst three eigenvectors and the eigenvalues:\")\n",
        "    print(\"Values : \" , values[0:3])\n",
        "    print(\"Vectors : \\n\" , vectors[0:3])\n",
        "\n",
        "    #cal. percentage contribution of each eigen values\n",
        "    percentage_variance = []\n",
        "    for i in range(len(values)):\n",
        "      percentage_variance.append(values[i]/np.sum(values))\n",
        "    print(\"\\npercentage_variance\",percentage_variance)\n",
        "    \n",
        "    return vectors\n",
        "\n",
        "def plot_1(result):\n",
        "    plt.figure(figsize=(10,10))\n",
        "    plt.subplot(2,2,1)\n",
        "    plt.scatter(result['PC1'],result['PC2'], color='cyan')\n",
        "    plt.scatter(result['PC1'],result['PC3'], color='red')\n",
        "    plt.scatter(result['PC2'],result['PC3'], color='green')\n",
        "    plt.title('PCA plot')\n",
        "    plt.legend(['PC1 vs PC2', 'PC1 vs PC3', 'PC2 vs PC3'])\n",
        "\n",
        "    plt.subplot(2,2,2)\n",
        "    plt.scatter(result['PC1'],result['PC2'],color='cyan')\n",
        "    plt.xlabel('PC1')\n",
        "    plt.ylabel('PC2')\n",
        "    plt.title('PC1 vs PC2')\n",
        "\n",
        "\n",
        "    plt.subplot(2,2,3)\n",
        "    plt.scatter(result['PC1'],result['PC3'],color='red')\n",
        "    plt.xlabel('PC1')\n",
        "    plt.ylabel('PC3')\n",
        "    plt.title('PC1 vs PC3')\n",
        "\n",
        "    plt.subplot(2,2,4)\n",
        "    plt.scatter(result['PC2'],result['PC3'],color='green')\n",
        "    plt.xlabel('PC2')\n",
        "    plt.ylabel('PC3')\n",
        "    plt.title('PC2 vs PC3')\n"
      ],
      "metadata": {
        "id": "M9AmrMUac196"
      },
      "execution_count": 6,
      "outputs": []
    },
    {
      "cell_type": "code",
      "source": [
        "#Applying Normalization\n",
        "train_scaled = StandardScaler(train)\n",
        "train_scaled\n",
        "\n",
        "#Applying PCA\n",
        "vec = PCA(train_scaled)"
      ],
      "metadata": {
        "colab": {
          "base_uri": "https://localhost:8080/"
        },
        "id": "-KizuzeIGIR-",
        "outputId": "a195f0df-78d5-41cc-c899-cfbe4cd77ccd"
      },
      "execution_count": 7,
      "outputs": [
        {
          "output_type": "stream",
          "name": "stdout",
          "text": [
            "covariance_matrix is : \n",
            " [[ 1.00671141 -0.11010327  0.87760486  0.82344326]\n",
            " [-0.11010327  1.00671141 -0.42333835 -0.358937  ]\n",
            " [ 0.87760486 -0.42333835  1.00671141  0.96921855]\n",
            " [ 0.82344326 -0.358937    0.96921855  1.00671141]]\n",
            "In the result, all the diagonal elements are exactly same. Rest of values represeents how features are inter-related to each other\n",
            "\n",
            "\n",
            "Values :  [2.93035378 0.92740362 0.14834223 0.02074601]\n",
            "Vectors : \n",
            " [[ 0.52237162 -0.37231836 -0.72101681  0.26199559]\n",
            " [-0.26335492 -0.92555649  0.24203288 -0.12413481]\n",
            " [ 0.58125401 -0.02109478  0.14089226 -0.80115427]\n",
            " [ 0.56561105 -0.06541577  0.6338014   0.52354627]]\n",
            "\n",
            "First three eigenvectors and the eigenvalues:\n",
            "Values :  [2.93035378 0.92740362 0.14834223]\n",
            "Vectors : \n",
            " [[ 0.52237162 -0.37231836 -0.72101681  0.26199559]\n",
            " [-0.26335492 -0.92555649  0.24203288 -0.12413481]\n",
            " [ 0.58125401 -0.02109478  0.14089226 -0.80115427]]\n",
            "\n",
            "percentage_variance [0.7277045209380133, 0.23030523267680647, 0.036838319576273704, 0.005151926808906404]\n"
          ]
        }
      ]
    },
    {
      "cell_type": "code",
      "source": [
        "#Both vectors need to be in perpendiclar form so that we can look in dataset as a column\n",
        "#Calculing train_scaled projections\n",
        "projected_1 = train_scaled.dot(vec.T[0])\n",
        "projected_2 = train_scaled.dot(vec.T[1])\n",
        "projected_3 = train_scaled.dot(vec.T[2])\n",
        "result = pd.DataFrame(projected_1, columns = ['PC1'])\n",
        "result['PC2'] = projected_2\n",
        "result['PC3'] = projected_3\n",
        "result"
      ],
      "metadata": {
        "colab": {
          "base_uri": "https://localhost:8080/",
          "height": 424
        },
        "id": "O-hocXkvgGG4",
        "outputId": "4b3d750b-0c48-49de-f24f-95bb37319f49"
      },
      "execution_count": 8,
      "outputs": [
        {
          "output_type": "execute_result",
          "data": {
            "text/plain": [
              "          PC1       PC2       PC3\n",
              "0   -2.264542 -0.505704 -0.121943\n",
              "1   -2.086426  0.655405 -0.227251\n",
              "2   -2.367950  0.318477  0.051480\n",
              "3   -2.304197  0.575368  0.098860\n",
              "4   -2.388777 -0.674767  0.021428\n",
              "..        ...       ...       ...\n",
              "145  1.870522 -0.382822  0.254532\n",
              "146  1.558492  0.905314 -0.025382\n",
              "147  1.520845 -0.266795  0.179277\n",
              "148  1.376391 -1.016362  0.931405\n",
              "149  0.959299  0.022284  0.528794\n",
              "\n",
              "[150 rows x 3 columns]"
            ],
            "text/html": [
              "\n",
              "  <div id=\"df-497ea052-6d31-46c9-88ca-3b4706ecf367\">\n",
              "    <div class=\"colab-df-container\">\n",
              "      <div>\n",
              "<style scoped>\n",
              "    .dataframe tbody tr th:only-of-type {\n",
              "        vertical-align: middle;\n",
              "    }\n",
              "\n",
              "    .dataframe tbody tr th {\n",
              "        vertical-align: top;\n",
              "    }\n",
              "\n",
              "    .dataframe thead th {\n",
              "        text-align: right;\n",
              "    }\n",
              "</style>\n",
              "<table border=\"1\" class=\"dataframe\">\n",
              "  <thead>\n",
              "    <tr style=\"text-align: right;\">\n",
              "      <th></th>\n",
              "      <th>PC1</th>\n",
              "      <th>PC2</th>\n",
              "      <th>PC3</th>\n",
              "    </tr>\n",
              "  </thead>\n",
              "  <tbody>\n",
              "    <tr>\n",
              "      <th>0</th>\n",
              "      <td>-2.264542</td>\n",
              "      <td>-0.505704</td>\n",
              "      <td>-0.121943</td>\n",
              "    </tr>\n",
              "    <tr>\n",
              "      <th>1</th>\n",
              "      <td>-2.086426</td>\n",
              "      <td>0.655405</td>\n",
              "      <td>-0.227251</td>\n",
              "    </tr>\n",
              "    <tr>\n",
              "      <th>2</th>\n",
              "      <td>-2.367950</td>\n",
              "      <td>0.318477</td>\n",
              "      <td>0.051480</td>\n",
              "    </tr>\n",
              "    <tr>\n",
              "      <th>3</th>\n",
              "      <td>-2.304197</td>\n",
              "      <td>0.575368</td>\n",
              "      <td>0.098860</td>\n",
              "    </tr>\n",
              "    <tr>\n",
              "      <th>4</th>\n",
              "      <td>-2.388777</td>\n",
              "      <td>-0.674767</td>\n",
              "      <td>0.021428</td>\n",
              "    </tr>\n",
              "    <tr>\n",
              "      <th>...</th>\n",
              "      <td>...</td>\n",
              "      <td>...</td>\n",
              "      <td>...</td>\n",
              "    </tr>\n",
              "    <tr>\n",
              "      <th>145</th>\n",
              "      <td>1.870522</td>\n",
              "      <td>-0.382822</td>\n",
              "      <td>0.254532</td>\n",
              "    </tr>\n",
              "    <tr>\n",
              "      <th>146</th>\n",
              "      <td>1.558492</td>\n",
              "      <td>0.905314</td>\n",
              "      <td>-0.025382</td>\n",
              "    </tr>\n",
              "    <tr>\n",
              "      <th>147</th>\n",
              "      <td>1.520845</td>\n",
              "      <td>-0.266795</td>\n",
              "      <td>0.179277</td>\n",
              "    </tr>\n",
              "    <tr>\n",
              "      <th>148</th>\n",
              "      <td>1.376391</td>\n",
              "      <td>-1.016362</td>\n",
              "      <td>0.931405</td>\n",
              "    </tr>\n",
              "    <tr>\n",
              "      <th>149</th>\n",
              "      <td>0.959299</td>\n",
              "      <td>0.022284</td>\n",
              "      <td>0.528794</td>\n",
              "    </tr>\n",
              "  </tbody>\n",
              "</table>\n",
              "<p>150 rows × 3 columns</p>\n",
              "</div>\n",
              "      <button class=\"colab-df-convert\" onclick=\"convertToInteractive('df-497ea052-6d31-46c9-88ca-3b4706ecf367')\"\n",
              "              title=\"Convert this dataframe to an interactive table.\"\n",
              "              style=\"display:none;\">\n",
              "        \n",
              "  <svg xmlns=\"http://www.w3.org/2000/svg\" height=\"24px\"viewBox=\"0 0 24 24\"\n",
              "       width=\"24px\">\n",
              "    <path d=\"M0 0h24v24H0V0z\" fill=\"none\"/>\n",
              "    <path d=\"M18.56 5.44l.94 2.06.94-2.06 2.06-.94-2.06-.94-.94-2.06-.94 2.06-2.06.94zm-11 1L8.5 8.5l.94-2.06 2.06-.94-2.06-.94L8.5 2.5l-.94 2.06-2.06.94zm10 10l.94 2.06.94-2.06 2.06-.94-2.06-.94-.94-2.06-.94 2.06-2.06.94z\"/><path d=\"M17.41 7.96l-1.37-1.37c-.4-.4-.92-.59-1.43-.59-.52 0-1.04.2-1.43.59L10.3 9.45l-7.72 7.72c-.78.78-.78 2.05 0 2.83L4 21.41c.39.39.9.59 1.41.59.51 0 1.02-.2 1.41-.59l7.78-7.78 2.81-2.81c.8-.78.8-2.07 0-2.86zM5.41 20L4 18.59l7.72-7.72 1.47 1.35L5.41 20z\"/>\n",
              "  </svg>\n",
              "      </button>\n",
              "      \n",
              "  <style>\n",
              "    .colab-df-container {\n",
              "      display:flex;\n",
              "      flex-wrap:wrap;\n",
              "      gap: 12px;\n",
              "    }\n",
              "\n",
              "    .colab-df-convert {\n",
              "      background-color: #E8F0FE;\n",
              "      border: none;\n",
              "      border-radius: 50%;\n",
              "      cursor: pointer;\n",
              "      display: none;\n",
              "      fill: #1967D2;\n",
              "      height: 32px;\n",
              "      padding: 0 0 0 0;\n",
              "      width: 32px;\n",
              "    }\n",
              "\n",
              "    .colab-df-convert:hover {\n",
              "      background-color: #E2EBFA;\n",
              "      box-shadow: 0px 1px 2px rgba(60, 64, 67, 0.3), 0px 1px 3px 1px rgba(60, 64, 67, 0.15);\n",
              "      fill: #174EA6;\n",
              "    }\n",
              "\n",
              "    [theme=dark] .colab-df-convert {\n",
              "      background-color: #3B4455;\n",
              "      fill: #D2E3FC;\n",
              "    }\n",
              "\n",
              "    [theme=dark] .colab-df-convert:hover {\n",
              "      background-color: #434B5C;\n",
              "      box-shadow: 0px 1px 3px 1px rgba(0, 0, 0, 0.15);\n",
              "      filter: drop-shadow(0px 1px 2px rgba(0, 0, 0, 0.3));\n",
              "      fill: #FFFFFF;\n",
              "    }\n",
              "  </style>\n",
              "\n",
              "      <script>\n",
              "        const buttonEl =\n",
              "          document.querySelector('#df-497ea052-6d31-46c9-88ca-3b4706ecf367 button.colab-df-convert');\n",
              "        buttonEl.style.display =\n",
              "          google.colab.kernel.accessAllowed ? 'block' : 'none';\n",
              "\n",
              "        async function convertToInteractive(key) {\n",
              "          const element = document.querySelector('#df-497ea052-6d31-46c9-88ca-3b4706ecf367');\n",
              "          const dataTable =\n",
              "            await google.colab.kernel.invokeFunction('convertToInteractive',\n",
              "                                                     [key], {});\n",
              "          if (!dataTable) return;\n",
              "\n",
              "          const docLinkHtml = 'Like what you see? Visit the ' +\n",
              "            '<a target=\"_blank\" href=https://colab.research.google.com/notebooks/data_table.ipynb>data table notebook</a>'\n",
              "            + ' to learn more about interactive tables.';\n",
              "          element.innerHTML = '';\n",
              "          dataTable['output_type'] = 'display_data';\n",
              "          await google.colab.output.renderOutput(dataTable, element);\n",
              "          const docLink = document.createElement('div');\n",
              "          docLink.innerHTML = docLinkHtml;\n",
              "          element.appendChild(docLink);\n",
              "        }\n",
              "      </script>\n",
              "    </div>\n",
              "  </div>\n",
              "  "
            ]
          },
          "metadata": {},
          "execution_count": 8
        }
      ]
    },
    {
      "cell_type": "markdown",
      "source": [
        "PC1, PC2 and PC3 are the 3 principal component that have calculated out from the algorithm of Principal Component Analysis"
      ],
      "metadata": {
        "id": "dL3dy8ciHh2M"
      }
    },
    {
      "cell_type": "code",
      "source": [
        "#Visualizing PCA results\n",
        "plot_1(result)"
      ],
      "metadata": {
        "colab": {
          "base_uri": "https://localhost:8080/",
          "height": 621
        },
        "id": "ca84bSZoHQuB",
        "outputId": "608c8da9-ff18-4026-e84b-89215257981f"
      },
      "execution_count": 9,
      "outputs": [
        {
          "output_type": "display_data",
          "data": {
            "text/plain": [
              "<Figure size 720x720 with 4 Axes>"
            ],
            "image/png": "[encoded data removed]"
          },
          "metadata": {
            "needs_background": "light"
          }
        }
      ]
    },
    {
      "cell_type": "markdown",
      "source": [
        ""
      ],
      "metadata": {
        "id": "VpnWDorZkfHN"
      }
    },
    {
      "cell_type": "markdown",
      "source": [
        "##**K-MEANS ALGORITHM**"
      ],
      "metadata": {
        "id": "wVlQ3brson6k"
      }
    },
    {
      "cell_type": "markdown",
      "source": [
        "num_clusters : how many clusters do we want to have\n",
        "examples on rows, features on column\n",
        "\n",
        "\n",
        "\n",
        "1. initialize_random_centroids(data,k,num_fea)  : declaration and initializing the k centroids\n",
        "\n",
        "2. create_clusters(data, centroids, k) : declaration and initializtion of k clusters\n",
        "\n",
        "3. update_assignments(data, centroids) : calclating and updating the values of \n",
        "in clusters\n",
        "\n",
        "4. update_centroids(data, num_clusters, assignments) : calculating and updating the values of centroid from values of newly calculated clusters \n",
        "\n",
        "5. kmeans(plot_data,data,k,num_features,max_iteration)\n",
        "\n",
        "6. accuracy(actual, pred)\n",
        "\n",
        "7. plot(result,clusters, centroids)"
      ],
      "metadata": {
        "id": "cfSwkoPyv0fL"
      }
    },
    {
      "cell_type": "code",
      "source": [
        "def initialize_random_centroids(data,k,num_fea):\n",
        "    centroids = (np.random.normal(size=(k, num_fea)) * 0.0001) + np.mean(data, axis=0).reshape((1, num_fea))\n",
        "    return centroids\n",
        "\n",
        "\n",
        "def create_clusters(data, centroids, k):\n",
        "  clusters = [ [] for _ in range(k)]\n",
        "  # [ [] [] [] ... []] : k cluster\n",
        "\n",
        "  for point_idx, point in enumerate(data):\n",
        "    # point - centroids : numpy broadcasting (1,2) - (3,2) = (3,2)\n",
        "    #np.argmin will give us the index of centroid closest to point\n",
        "    closest_centroid = np.argmin(np.sqrt(np.sum( (point - centroids)**2, axis=1 )))\n",
        "    clusters[closest_centroid].append(point_idx)\n",
        "  return clusters\n",
        "\n",
        "\n",
        "def update_clusters(data, centroids):\n",
        "    c = []\n",
        "    for i in data:\n",
        "        c.append(np.argmin(np.sum((i.reshape((1, 2)) - centroids)**2, axis=1)))\n",
        "    return c\n",
        "\n",
        "def update_centroids(data, num_clusters, assignments):\n",
        "    cen = []\n",
        "    for c in range(len(num_clusters)):\n",
        "        cen.append(np.mean([data[x] for x in range(len(data)) if assignments[x] == c], axis=0))\n",
        "    return cen\n",
        "\n",
        "\n",
        "def kmeans(plot_data,data,k,num_features,max_iteration):\n",
        "  \n",
        "  #initializing the centroids\n",
        "  centroids = initialize_random_centroids(data,k,num_features)\n",
        "\n",
        "  for i in range(max_iteration):\n",
        "      a = update_clusters(data, centroids) \n",
        "      clusters = create_clusters(data, centroids,k)\n",
        "      centroids = update_centroids(data, centroids, a)\n",
        "      centroids = np.array(centroids)\n",
        "\n",
        "  #results\n",
        "  plot(plot_data, clusters,centroids)\n",
        "  result = clusters\n",
        "  return(result)\n",
        "\n",
        "\n",
        "def accuracy(actual, pred):\n",
        "\n",
        "  count=0\n",
        "  for i in np.arange(len(actual)):\n",
        "    if actual[i] == pred[i]:\n",
        "      count = count + 1\n",
        "  print(\"Accuracy is : \", count/len(actual))\n",
        "\n",
        "\n",
        "def plot(result,clusters, centroids):\n",
        "\n",
        "    #initial data visualization\n",
        "    plt.figure(figsize=(22,8))\n",
        "    plt.subplot(1,3,1)\n",
        "    plt.scatter( result['PC1'], result['PC2'], color='cyan',alpha=1, marker = '*')\n",
        "    plt.xlabel('PC1')\n",
        "    plt.ylabel('PC2')\n",
        "    plt.title('Data Distribution')\n",
        "    \n",
        "    df0 = result[result['Species'] == 0]\n",
        "    df1 = result[result['Species'] == 1]\n",
        "    df2 = result[result['Species'] == 2]\n",
        "\n",
        "    plt.subplot(1,3,2)\n",
        "    plt.scatter( df0['PC1'], df0['PC2'], color='blue', alpha =0.5,linewidth=2.5)\n",
        "    plt.scatter( df1['PC1'], df1['PC2'], color='brown', alpha =0.7,linewidth=2.5)\n",
        "    plt.scatter( df2['PC1'], df2['PC2'], color = 'yellow', alpha =1,linewidth=2.5)\n",
        "    plt.scatter( result['PC1'], result['PC2'],color='black', alpha=1, marker = '*')\n",
        "    plt.legend(['0:Iris-setosa','1:Iris-versicolor','2:Iris-virginica','Actual Data'])\n",
        "    plt.xlabel('PC1')\n",
        "    plt.ylabel('PC2')\n",
        "    plt.title(' Actual class distribution')\n",
        "\n",
        "\n",
        "    #OUTPUT DATA VISULIZATION\n",
        "    df0 = result[result['Species'] == 0]\n",
        "    df1 = result[result['Species'] == 1]\n",
        "    df2 = result[result['Species'] == 2]\n",
        "\n",
        "    cluster0= result.iloc[clusters[0],:]\n",
        "    cluster1 = result.iloc[clusters[1],:]\n",
        "    cluster2 = result.iloc[clusters[2],:]\n",
        "\n",
        "    plt.subplot(1,3,3)\n",
        "    plt.scatter( df0['PC1'], df0['PC2'], color='blue', alpha =0.5,linewidth=3  )\n",
        "    plt.scatter( df1['PC1'], df1['PC2'], color='brown', alpha =0.7, linewidth=3 )\n",
        "    plt.scatter( df2['PC1'], df2['PC2'], color = 'yellow', alpha =1, linewidth=3 )\n",
        "    plt.scatter( cluster0['PC1'], cluster0['PC2'], color='orange', alpha =1, marker = '*', )\n",
        "    plt.scatter( cluster1['PC1'], cluster1['PC2'], color='black', alpha =0.9, marker = '*'  )\n",
        "    plt.scatter( cluster2['PC1'], cluster2['PC2'], color = 'cyan', alpha =0.9, marker = '*')\n",
        "    plt.scatter(centroids[:, 0], centroids[:, 1], color = 'red' , marker='+', linewidth=6 )\n",
        "    \n",
        "    plt.title(\"Actual Values, Predicted Values And Centroids location as per k-means\")\n",
        "    plt.xlabel('PC1')\n",
        "    plt.ylabel('PC2')\n",
        "    plt.legend(['0:Iris-setosa','1:Iris-versicolor','2:Iris-virginica', 'cluster0', 'cluster1', 'cluster2', 'centroid'])\n",
        "    plt.show()\n",
        "\n"
      ],
      "metadata": {
        "id": "mPFxNbmp7iXL"
      },
      "execution_count": 13,
      "outputs": []
    },
    {
      "cell_type": "markdown",
      "source": [
        "**from PCA Algorithm, we have received 4 eigen values, but if we observe carefully only first 2 values have the maximum percentage variance.\n",
        "So, we will consider those 2 values only and using the feature PC1 and PC2 for K-mean algorithm\"**"
      ],
      "metadata": {
        "id": "ezXrmEMFfKqC"
      }
    },
    {
      "cell_type": "code",
      "source": [
        "df = pd.DataFrame(projected_1, columns = ['PC1'])\n",
        "df['PC2'] = projected_2\n",
        "df['Species'] = target['Species']\n",
        "df"
      ],
      "metadata": {
        "id": "VUBAV7LwS2eb",
        "colab": {
          "base_uri": "https://localhost:8080/",
          "height": 424
        },
        "outputId": "3e6ec1f4-ecb9-4770-8ef7-a1a353377c70"
      },
      "execution_count": 14,
      "outputs": [
        {
          "output_type": "execute_result",
          "data": {
            "text/plain": [
              "          PC1       PC2  Species\n",
              "0   -2.264542 -0.505704        0\n",
              "1   -2.086426  0.655405        0\n",
              "2   -2.367950  0.318477        0\n",
              "3   -2.304197  0.575368        0\n",
              "4   -2.388777 -0.674767        0\n",
              "..        ...       ...      ...\n",
              "145  1.870522 -0.382822        2\n",
              "146  1.558492  0.905314        2\n",
              "147  1.520845 -0.266795        2\n",
              "148  1.376391 -1.016362        2\n",
              "149  0.959299  0.022284        2\n",
              "\n",
              "[150 rows x 3 columns]"
            ],
            "text/html": [
              "\n",
              "  <div id=\"df-1ee56c9e-f133-4f6c-ba5d-dc390a21c546\">\n",
              "    <div class=\"colab-df-container\">\n",
              "      <div>\n",
              "<style scoped>\n",
              "    .dataframe tbody tr th:only-of-type {\n",
              "        vertical-align: middle;\n",
              "    }\n",
              "\n",
              "    .dataframe tbody tr th {\n",
              "        vertical-align: top;\n",
              "    }\n",
              "\n",
              "    .dataframe thead th {\n",
              "        text-align: right;\n",
              "    }\n",
              "</style>\n",
              "<table border=\"1\" class=\"dataframe\">\n",
              "  <thead>\n",
              "    <tr style=\"text-align: right;\">\n",
              "      <th></th>\n",
              "      <th>PC1</th>\n",
              "      <th>PC2</th>\n",
              "      <th>Species</th>\n",
              "    </tr>\n",
              "  </thead>\n",
              "  <tbody>\n",
              "    <tr>\n",
              "      <th>0</th>\n",
              "      <td>-2.264542</td>\n",
              "      <td>-0.505704</td>\n",
              "      <td>0</td>\n",
              "    </tr>\n",
              "    <tr>\n",
              "      <th>1</th>\n",
              "      <td>-2.086426</td>\n",
              "      <td>0.655405</td>\n",
              "      <td>0</td>\n",
              "    </tr>\n",
              "    <tr>\n",
              "      <th>2</th>\n",
              "      <td>-2.367950</td>\n",
              "      <td>0.318477</td>\n",
              "      <td>0</td>\n",
              "    </tr>\n",
              "    <tr>\n",
              "      <th>3</th>\n",
              "      <td>-2.304197</td>\n",
              "      <td>0.575368</td>\n",
              "      <td>0</td>\n",
              "    </tr>\n",
              "    <tr>\n",
              "      <th>4</th>\n",
              "      <td>-2.388777</td>\n",
              "      <td>-0.674767</td>\n",
              "      <td>0</td>\n",
              "    </tr>\n",
              "    <tr>\n",
              "      <th>...</th>\n",
              "      <td>...</td>\n",
              "      <td>...</td>\n",
              "      <td>...</td>\n",
              "    </tr>\n",
              "    <tr>\n",
              "      <th>145</th>\n",
              "      <td>1.870522</td>\n",
              "      <td>-0.382822</td>\n",
              "      <td>2</td>\n",
              "    </tr>\n",
              "    <tr>\n",
              "      <th>146</th>\n",
              "      <td>1.558492</td>\n",
              "      <td>0.905314</td>\n",
              "      <td>2</td>\n",
              "    </tr>\n",
              "    <tr>\n",
              "      <th>147</th>\n",
              "      <td>1.520845</td>\n",
              "      <td>-0.266795</td>\n",
              "      <td>2</td>\n",
              "    </tr>\n",
              "    <tr>\n",
              "      <th>148</th>\n",
              "      <td>1.376391</td>\n",
              "      <td>-1.016362</td>\n",
              "      <td>2</td>\n",
              "    </tr>\n",
              "    <tr>\n",
              "      <th>149</th>\n",
              "      <td>0.959299</td>\n",
              "      <td>0.022284</td>\n",
              "      <td>2</td>\n",
              "    </tr>\n",
              "  </tbody>\n",
              "</table>\n",
              "<p>150 rows × 3 columns</p>\n",
              "</div>\n",
              "      <button class=\"colab-df-convert\" onclick=\"convertToInteractive('df-1ee56c9e-f133-4f6c-ba5d-dc390a21c546')\"\n",
              "              title=\"Convert this dataframe to an interactive table.\"\n",
              "              style=\"display:none;\">\n",
              "        \n",
              "  <svg xmlns=\"http://www.w3.org/2000/svg\" height=\"24px\"viewBox=\"0 0 24 24\"\n",
              "       width=\"24px\">\n",
              "    <path d=\"M0 0h24v24H0V0z\" fill=\"none\"/>\n",
              "    <path d=\"M18.56 5.44l.94 2.06.94-2.06 2.06-.94-2.06-.94-.94-2.06-.94 2.06-2.06.94zm-11 1L8.5 8.5l.94-2.06 2.06-.94-2.06-.94L8.5 2.5l-.94 2.06-2.06.94zm10 10l.94 2.06.94-2.06 2.06-.94-2.06-.94-.94-2.06-.94 2.06-2.06.94z\"/><path d=\"M17.41 7.96l-1.37-1.37c-.4-.4-.92-.59-1.43-.59-.52 0-1.04.2-1.43.59L10.3 9.45l-7.72 7.72c-.78.78-.78 2.05 0 2.83L4 21.41c.39.39.9.59 1.41.59.51 0 1.02-.2 1.41-.59l7.78-7.78 2.81-2.81c.8-.78.8-2.07 0-2.86zM5.41 20L4 18.59l7.72-7.72 1.47 1.35L5.41 20z\"/>\n",
              "  </svg>\n",
              "      </button>\n",
              "      \n",
              "  <style>\n",
              "    .colab-df-container {\n",
              "      display:flex;\n",
              "      flex-wrap:wrap;\n",
              "      gap: 12px;\n",
              "    }\n",
              "\n",
              "    .colab-df-convert {\n",
              "      background-color: #E8F0FE;\n",
              "      border: none;\n",
              "      border-radius: 50%;\n",
              "      cursor: pointer;\n",
              "      display: none;\n",
              "      fill: #1967D2;\n",
              "      height: 32px;\n",
              "      padding: 0 0 0 0;\n",
              "      width: 32px;\n",
              "    }\n",
              "\n",
              "    .colab-df-convert:hover {\n",
              "      background-color: #E2EBFA;\n",
              "      box-shadow: 0px 1px 2px rgba(60, 64, 67, 0.3), 0px 1px 3px 1px rgba(60, 64, 67, 0.15);\n",
              "      fill: #174EA6;\n",
              "    }\n",
              "\n",
              "    [theme=dark] .colab-df-convert {\n",
              "      background-color: #3B4455;\n",
              "      fill: #D2E3FC;\n",
              "    }\n",
              "\n",
              "    [theme=dark] .colab-df-convert:hover {\n",
              "      background-color: #434B5C;\n",
              "      box-shadow: 0px 1px 3px 1px rgba(0, 0, 0, 0.15);\n",
              "      filter: drop-shadow(0px 1px 2px rgba(0, 0, 0, 0.3));\n",
              "      fill: #FFFFFF;\n",
              "    }\n",
              "  </style>\n",
              "\n",
              "      <script>\n",
              "        const buttonEl =\n",
              "          document.querySelector('#df-1ee56c9e-f133-4f6c-ba5d-dc390a21c546 button.colab-df-convert');\n",
              "        buttonEl.style.display =\n",
              "          google.colab.kernel.accessAllowed ? 'block' : 'none';\n",
              "\n",
              "        async function convertToInteractive(key) {\n",
              "          const element = document.querySelector('#df-1ee56c9e-f133-4f6c-ba5d-dc390a21c546');\n",
              "          const dataTable =\n",
              "            await google.colab.kernel.invokeFunction('convertToInteractive',\n",
              "                                                     [key], {});\n",
              "          if (!dataTable) return;\n",
              "\n",
              "          const docLinkHtml = 'Like what you see? Visit the ' +\n",
              "            '<a target=\"_blank\" href=https://colab.research.google.com/notebooks/data_table.ipynb>data table notebook</a>'\n",
              "            + ' to learn more about interactive tables.';\n",
              "          element.innerHTML = '';\n",
              "          dataTable['output_type'] = 'display_data';\n",
              "          await google.colab.output.renderOutput(dataTable, element);\n",
              "          const docLink = document.createElement('div');\n",
              "          docLink.innerHTML = docLinkHtml;\n",
              "          element.appendChild(docLink);\n",
              "        }\n",
              "      </script>\n",
              "    </div>\n",
              "  </div>\n",
              "  "
            ]
          },
          "metadata": {},
          "execution_count": 14
        }
      ]
    },
    {
      "cell_type": "code",
      "source": [
        "#data \n",
        "data = df.iloc[:,0:2].to_numpy() # (50, 2), 50 data points, 2 dimensions each\n",
        "print(data.shape)\n",
        "\n",
        "#applying kmean\n",
        "output = kmeans(df,data,3,2,100)"
      ],
      "metadata": {
        "colab": {
          "base_uri": "https://localhost:8080/",
          "height": 517
        },
        "id": "OHz3KIWbMSVq",
        "outputId": "6fd5deb1-f6f6-4f72-d13d-4b74b06baf76"
      },
      "execution_count": 17,
      "outputs": [
        {
          "output_type": "stream",
          "name": "stdout",
          "text": [
            "(150, 2)\n"
          ]
        },
        {
          "output_type": "display_data",
          "data": {
            "text/plain": [
              "<Figure size 1584x576 with 3 Axes>"
            ],
            "image/png": "[encoded data removed]"
          },
          "metadata": {
            "needs_background": "light"
          }
        }
      ]
    },
    {
      "cell_type": "markdown",
      "source": [
        "In the graph we can clearly see that k-mean algorithm is successful in dividing the data into 3 clusters represented by\n",
        "\n",
        " **star** (predicted values) in [black,cyan,orange]\n",
        "\n",
        " **dots** (actual values) in [blue, brown, yellow]\n",
        " \n",
        " **square** (centroid loaction)  [red]"
      ],
      "metadata": {
        "id": "oETrzoTTC5nf"
      }
    },
    {
      "cell_type": "code",
      "source": [
        "\n",
        "'''\n",
        "cluster 0: 0\n",
        "cluster 1 : 1\n",
        "cluster 2 : 2\n",
        "'''\n",
        "#Creating a new column to store predicted values\n",
        "df['pred_val'] = 0\n",
        "df.iloc[output[0],[3]] = 0\n",
        "df.iloc[output[1],[3]] = 1\n",
        "df.iloc[output[2],[3]] = 2\n",
        "\n",
        "#FINDING ACCURACY\n",
        "accuracy(df['Species'],df['pred_val'])"
      ],
      "metadata": {
        "colab": {
          "base_uri": "https://localhost:8080/"
        },
        "id": "5ho5HOVfQjbA",
        "outputId": "5325cdb4-ab67-4b4e-d0fd-454cd13fd8a5"
      },
      "execution_count": 18,
      "outputs": [
        {
          "output_type": "stream",
          "name": "stdout",
          "text": [
            "Accuracy is :  0.8533333333333334\n"
          ]
        }
      ]
    },
    {
      "cell_type": "markdown",
      "source": [
        "#**ACCURACY IS 85.33%**"
      ],
      "metadata": {
        "id": "yUz-fV95S8Kq"
      }
    },
    {
      "cell_type": "code",
      "source": [
        ""
      ],
      "metadata": {
        "id": "iURtBZaFSpHA"
      },
      "execution_count": null,
      "outputs": []
    }
  ]
}